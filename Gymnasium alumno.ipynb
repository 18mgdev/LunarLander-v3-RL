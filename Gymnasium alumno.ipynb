{
 "cells": [
  {
   "cell_type": "markdown",
   "id": "d47c739a",
   "metadata": {},
   "source": [
    "# LunarLander-v3 feat. Reinforcemente Learning 🚀\n",
    "\n",
    "By\n",
    "- Miguel González\n",
    "- Javier Quesada"
   ]
  },
  {
   "cell_type": "markdown",
   "id": "932f230c",
   "metadata": {},
   "source": [
    "## Info"
   ]
  },
  {
   "attachments": {},
   "cell_type": "markdown",
   "id": "3ce62d5d",
   "metadata": {},
   "source": [
    "### Documentación\n",
    "\n",
    "Problemas interesantes para Aprendizaje por refuerzo\n",
    " * Gymnasium: https://gymnasium.farama.org/environments/box2d/"
   ]
  },
  {
   "attachments": {},
   "cell_type": "markdown",
   "id": "57c172cf-929c-4be0-b79e-d3da9d17c343",
   "metadata": {},
   "source": [
    "### Instalación\n",
    "\n",
    "%pip install gymnasium  \n",
    "%pip install gymnasium[box2d] \n",
    "\n",
    "### Acciones adicionales\n",
    "\n",
    "Pueden ser necesarias *antes* de instalar gymnasium[box2d].\n",
    "\n",
    "#### En macos\n",
    "\n",
    "pip uninstall swig  \n",
    "xcode-select -—install (instala las herramientas de desarrollador si no se tienen ya)  \n",
    "pip install swig  / sudo port install swig-python\n",
    "pip install 'gymnasium[box2d]' # en zsh hay que poner las comillas  \n",
    "\n",
    "#### en Windows\n",
    "\n",
    "Si da error, se debe a la falta de la versión correcta de Microsoft C++ Build Tools, que es una dependencia de Box2D. Para solucionar este problema, puede seguir los siguientes pasos:\n",
    " * Descargar Microsoft C++ Build Tools desde https://visualstudio.microsoft.com/visual-cpp-build-tools/.\n",
    " * Dentro del instalador, seleccione la opción \"Desarrollo para el escritorio con C++\"\n",
    " * Reinicie su sesión en Jupyter Notebook o en Visual Studio.\n",
    " * Ejecute nuevamente el comando !pip install gymnasium[box2d] en la línea de comandos de su notebook.\n",
    "\n",
    "#### En linux (colab)\n",
    "  * pip install swig"
   ]
  },
  {
   "cell_type": "markdown",
   "id": "9832d7ba",
   "metadata": {},
   "source": [
    "## Dependencias 📦"
   ]
  },
  {
   "cell_type": "code",
   "execution_count": 1,
   "id": "50c3d9c6",
   "metadata": {},
   "outputs": [
    {
     "name": "stdout",
     "output_type": "stream",
     "text": [
      "Note: you may need to restart the kernel to use updated packages.\n",
      "Note: you may need to restart the kernel to use updated packages.\n",
      "Note: you may need to restart the kernel to use updated packages.\n"
     ]
    }
   ],
   "source": [
    "%pip install swig -q\n",
    "%pip install gymnasium[box2d] -q\n",
    "%pip install loky -q"
   ]
  },
  {
   "cell_type": "code",
   "execution_count": 2,
   "id": "356dfb44",
   "metadata": {},
   "outputs": [],
   "source": [
    "import gymnasium as gym\n",
    "import numpy as np\n",
    "import pygame\n",
    "import gymnasium.utils.play\n",
    "from MLP import MLP\n",
    "import copy\n",
    "from loky import get_reusable_executor\n",
    "import random\n",
    "import matplotlib.pyplot as plt"
   ]
  },
  {
   "cell_type": "markdown",
   "id": "ccdade56",
   "metadata": {},
   "source": [
    "## AutoPlay - humano 🕹️"
   ]
  },
  {
   "cell_type": "code",
   "execution_count": null,
   "id": "e2e7a384-a993-4330-b213-03d2f02ed3ab",
   "metadata": {},
   "outputs": [],
   "source": [
    "# prueba lunar lander por humano\n",
    "env_human = gym.make(\"LunarLander-v3\", render_mode=\"rgb_array\")\n",
    "\n",
    "lunar_lander_keys = {\n",
    "    (pygame.K_UP,): 2,\n",
    "    (pygame.K_LEFT,): 1,\n",
    "    (pygame.K_RIGHT,): 3,\n",
    "}\n",
    "gymnasium.utils.play.play(env_human, zoom=1, keys_to_action=lunar_lander_keys, noop=0)"
   ]
  },
  {
   "cell_type": "markdown",
   "id": "f911a9ca",
   "metadata": {},
   "source": [
    "## Desarrollo de funciones 🧩"
   ]
  },
  {
   "cell_type": "markdown",
   "id": "e6707b05",
   "metadata": {},
   "source": [
    "### Modelo 🧠"
   ]
  },
  {
   "cell_type": "code",
   "execution_count": 3,
   "id": "5f5cf2df",
   "metadata": {},
   "outputs": [],
   "source": [
    "# construir modelo\n",
    "LAYERS = [8, 6, 4]\n",
    "model =  MLP(LAYERS)"
   ]
  },
  {
   "cell_type": "markdown",
   "id": "c4265a60",
   "metadata": {},
   "source": [
    "### Política 🎯"
   ]
  },
  {
   "cell_type": "code",
   "execution_count": 4,
   "id": "b73fa6db",
   "metadata": {},
   "outputs": [],
   "source": [
    "def policy(observation, model, epsilon=0.1):\n",
    "    \"\"\"\n",
    "    Toma una observación del entorno y devuelve una acción basada en el modelo MLP.\n",
    "    \n",
    "    Parámetros:\n",
    "    - observation (array): Estado actual del entorno.\n",
    "    - model (MLP): Red neuronal que estima los valores de las acciones.\n",
    "    - epsilon (float): Probabilidad de exploración (acción aleatoria).\n",
    "\n",
    "    Retorna:\n",
    "    - int: Acción elegida por el modelo.\n",
    "    \"\"\"\n",
    "    num_actions = model.layers[-1]  # Número de acciones basado en la última capa de MLP\n",
    "    \n",
    "    if np.random.rand() < epsilon:  # Exploración (acción aleatoria con probabilidad epsilon)\n",
    "        return np.random.randint(num_actions)\n",
    "    \n",
    "    action_values = model.forward(observation)  # Predicción de la red neuronal\n",
    "    return np.argmax(action_values)  # Selecciona la acción con el mayor valor"
   ]
  },
  {
   "cell_type": "markdown",
   "id": "fb39286a",
   "metadata": {},
   "source": [
    "### Entorno de exploración y función de ejecución 🌍"
   ]
  },
  {
   "cell_type": "code",
   "execution_count": 5,
   "id": "40a50806",
   "metadata": {},
   "outputs": [],
   "source": [
    "env = gym.make(\"LunarLander-v3\")\n",
    "\n",
    "def run(model):\n",
    "    \"\"\"\n",
    "    Genera un escenario de juego y ejecuta la política definida en la función policy.\n",
    "    Al acabar el juego (cuando se estrella o aterriza), devuelve la recompensa acumulada.\n",
    "    \n",
    "    Parámetros:\n",
    "    - model (MLP): La red neuronal que se usará para decidir las acciones.\n",
    "    \n",
    "    Retorna:\n",
    "    - float: La recompensa total obtenida en el episodio.\n",
    "    \"\"\"\n",
    "    observation, info = env.reset()  # Se abre un escenario de juego\n",
    "    racum = 0  # Recompensa acumulada\n",
    "\n",
    "    while True:\n",
    "        action = policy(observation, model)  # Se pasa el modelo a policy()\n",
    "        observation, reward, terminated, truncated, info = env.step(action)\n",
    "        racum += reward  # Acumula la recompensa obtenida\n",
    "\n",
    "        if terminated or truncated:\n",
    "            return racum  # Devuelve la recompensa final\n"
   ]
  },
  {
   "cell_type": "markdown",
   "id": "c429eef1",
   "metadata": {},
   "source": [
    "### Funciones bioinspiradas 🧬"
   ]
  },
  {
   "cell_type": "code",
   "execution_count": 6,
   "id": "8889809d",
   "metadata": {},
   "outputs": [],
   "source": [
    "def sbx_crossover(parent1, parent2, eta_c=15):\n",
    "    \"\"\"\n",
    "    Simulated Binary Crossover (SBX) para variables continuas en [0,1].   \n",
    "    eta_c: distribution, controla la 'intensidad' del cruce.\n",
    "    \"\"\"\n",
    "    \n",
    "    # if np.random.rand() >= pc:\n",
    "    #     return np.copy(parent1), np.copy(parent2)\n",
    "\n",
    "    n_var = len(parent1)\n",
    "    child1 = np.zeros(n_var)\n",
    "    child2 = np.zeros(n_var)\n",
    "\n",
    "    for i in range(n_var):\n",
    "        x1 = parent1[i]\n",
    "        x2 = parent2[i]\n",
    "\n",
    "        if x1 > x2:\n",
    "            x1, x2 = x2, x1\n",
    "\n",
    "        if abs(x1 - x2) < 1e-14:\n",
    "            # Si son prácticamente iguales, se copia\n",
    "            child1[i] = x1\n",
    "            child2[i] = x2\n",
    "        else:\n",
    "            # Beta determina el grado de cruce\n",
    "            rand = np.random.rand()\n",
    "            beta = 1.0 + (2.0 * (x1 - 0.0) / (x2 - x1))\n",
    "            alpha = 2.0 - beta ** (-(eta_c + 1.0))\n",
    "            if rand <= 1.0 / alpha:\n",
    "                betaq = (rand * alpha) ** (1.0 / (eta_c + 1.0))\n",
    "            else:\n",
    "                betaq = (1.0 / (2.0 - rand * alpha)) ** (1.0 / (eta_c + 1.0))\n",
    "\n",
    "            c1 = 0.5 * ((x1 + x2) - betaq * (x2 - x1))\n",
    "\n",
    "            beta = 1.0 + (2.0 * (1.0 - x2) / (x2 - x1))\n",
    "            alpha = 2.0 - beta ** (-(eta_c + 1.0))\n",
    "            if rand <= 1.0 / alpha:\n",
    "                betaq = (rand * alpha) ** (1.0 / (eta_c + 1.0))\n",
    "            else:\n",
    "                betaq = (1.0 / (2.0 - rand * alpha)) ** (1.0 / (eta_c + 1.0))\n",
    "\n",
    "            c2 = 0.5 * ((x1 + x2) + betaq * (x2 - x1))\n",
    "\n",
    "            c1 = min(max(c1, 0.0), 1.0)\n",
    "            c2 = min(max(c2, 0.0), 1.0)\n",
    "\n",
    "            # Aleatoriamente asignamos quién obtiene c1 y c2\n",
    "            if np.random.rand() < 0.5:\n",
    "                child1[i] = c2\n",
    "                child2[i] = c1\n",
    "            else:\n",
    "                child1[i] = c1\n",
    "                child2[i] = c2\n",
    "\n",
    "    return child1, child2"
   ]
  },
  {
   "cell_type": "code",
   "execution_count": 7,
   "id": "9da37855",
   "metadata": {},
   "outputs": [],
   "source": [
    "import random\n",
    "\n",
    "def blx_crossover(parent1: list, parent2: list, pcross: float, alpha: float = 0.7) -> tuple[list, list]:\n",
    "    \"\"\"\n",
    "    Realiza crossover BLX-alpha entre dos padres.\n",
    "    \n",
    "    Parámetros:\n",
    "    - parent1 (list): Primer padre (lista de genes).\n",
    "    - parent2 (list): Segundo padre (lista de genes).\n",
    "    - pcross (float): Probabilidad de cruce (0-1).\n",
    "    - alpha (float, opcional): Factor de exploración. Por defecto 0.5.\n",
    "    \n",
    "    Retorna:\n",
    "    - tuple[list, list]: Dos listas representando los hijos generados.\n",
    "    \"\"\"\n",
    "    if random.random() < pcross:\n",
    "        child1 = []\n",
    "        child2 = []\n",
    "        for gene1, gene2 in zip(parent1, parent2):\n",
    "            x_min = min(gene1, gene2)\n",
    "            x_max = max(gene1, gene2)\n",
    "            I = x_max - x_min  # Intervalo\n",
    "            lower_bound = x_min - alpha * I  # Expansión inferior\n",
    "            upper_bound = x_max + alpha * I  # Expansión superior\n",
    "            child1.append(random.uniform(lower_bound, upper_bound))\n",
    "            child2.append(random.uniform(lower_bound, upper_bound))\n",
    "        return child1, child2\n",
    "    else:\n",
    "        return parent1.copy(), parent2.copy()  # Evita modificar los padres originales\n"
   ]
  },
  {
   "cell_type": "code",
   "execution_count": 8,
   "id": "20222fc4",
   "metadata": {},
   "outputs": [],
   "source": [
    "def evaluate_fitness(model, ind, num_eval_games):\n",
    "    \"\"\"\n",
    "    Evalúa el fitness de un individuo en múltiples partidas.\n",
    "\n",
    "    Parámetros:\n",
    "    - model (MLP): Instancia de la red neuronal que se va a evaluar.\n",
    "    - ind (list): Cromosoma que representa los pesos del modelo.\n",
    "    - num_eval_games (int): Número de partidas a jugar para calcular el fitness.\n",
    "\n",
    "    Retorna:\n",
    "    - float: Fitness promedio del individuo (recompensa media en las partidas).\n",
    "    \"\"\"\n",
    "    total_reward = 0\n",
    "    model.from_chromosome(ind)  # Carga los pesos del individuo en el modelo\n",
    "    \n",
    "    for _ in range(num_eval_games):\n",
    "        total_reward += run(model)  # Se pasa el modelo a `run()`\n",
    "\n",
    "    return total_reward / num_eval_games  # Retorna el fitness promedio\n"
   ]
  },
  {
   "cell_type": "code",
   "execution_count": 9,
   "id": "75a3eeef",
   "metadata": {},
   "outputs": [],
   "source": [
    "def parallel_evaluation(population, model, num_eval_games, fitness_func):\n",
    "    \"\"\"\n",
    "    Evalúa en paralelo el fitness de la población usando loky.\n",
    "\n",
    "    Parámetros:\n",
    "    - population (list): Lista de individuos (listas de pesos para el MLP).\n",
    "    - model_template (MLP): Modelo base para crear copias y evaluar individuos.\n",
    "    - num_eval_games (int): Número de partidas para evaluar el fitness.\n",
    "    - fitness_func (func): Función de evaluación del fitness.\n",
    "\n",
    "    Retorna:\n",
    "    - list: Lista de valores de fitness para cada individuo en la población.\n",
    "    \"\"\"\n",
    "    with get_reusable_executor() as executor:\n",
    "        # Creamos un modelo independiente para cada individuo\n",
    "        models = [copy.deepcopy(model) for _ in range(len(population))]\n",
    "        \n",
    "        # Ejecutamos fitness_func en paralelo, pasando el modelo, el individuo y num_eval_games\n",
    "        fitness_scores = list(executor.map(fitness_func, models, population, [num_eval_games] * len(population)))\n",
    "    \n",
    "    return fitness_scores"
   ]
  },
  {
   "cell_type": "code",
   "execution_count": 10,
   "id": "2920ac28",
   "metadata": {},
   "outputs": [],
   "source": [
    "def sort_pop(population, fitness_scores):\n",
    "    \"\"\"\n",
    "    Ordena la población según el fitness obtenido (de mayor a menor).\n",
    "\n",
    "    Parámetros:\n",
    "    - population (list): Lista de individuos.\n",
    "    - fitness_scores (list): Lista de valores de fitness correspondientes.\n",
    "\n",
    "    Retorna:\n",
    "    - sorted_population (list): Población ordenada de mayor a menor fitness.\n",
    "    - sorted_scores (list): Valores de fitness ordenados de mayor a menor.\n",
    "    \"\"\"\n",
    "    sorted_indices = np.argsort(fitness_scores)[::-1]  # Índices ordenados de mayor a menor fitness\n",
    "    sorted_population = [population[i] for i in sorted_indices]\n",
    "    sorted_scores = [fitness_scores[i] for i in sorted_indices]\n",
    "\n",
    "    return sorted_population, sorted_scores"
   ]
  },
  {
   "cell_type": "code",
   "execution_count": 11,
   "id": "3723108e",
   "metadata": {},
   "outputs": [],
   "source": [
    "import random\n",
    "\n",
    "def select(population_with_fitness, T: int):\n",
    "    \"\"\"\n",
    "    Selección por torneo con población ordenada de mayor a menor fitness.\n",
    "\n",
    "    Parámetros:\n",
    "    - population_with_fitness (list): Lista de tuplas (individuo, fitness), ORDENADA de mayor a menor.\n",
    "    - T (int): Tamaño del torneo.\n",
    "\n",
    "    Retorna:\n",
    "    - Individuo seleccionado (lista de pesos).\n",
    "    \"\"\"\n",
    "    tournament = random.sample(population_with_fitness[:T], k=T)  # Selecciona dentro de los mejores T\n",
    "    return tournament[0][0]  # Retorna solo el individuo"
   ]
  },
  {
   "cell_type": "code",
   "execution_count": null,
   "id": "bf0044f4",
   "metadata": {},
   "outputs": [],
   "source": [
    "def mutate(individual, pmut, sigma=0.05):\n",
    "    \"\"\"\n",
    "    Aplica mutación gaussiana normal a un individuo.\n",
    "\n",
    "    Parámetros:\n",
    "    - individual (list): Cromosoma del individuo (pesos de la red).\n",
    "    - pmut (float): Probabilidad de mutar cada gen.\n",
    "    - sigma (float): Desviación estándar de la mutación gaussiana.\n",
    "\n",
    "    Retorna:\n",
    "    - mutated_ind (list): Nuevo cromosoma mutado.\n",
    "    \"\"\"\n",
    "    mutated_ind = []\n",
    "\n",
    "    for gene in individual:\n",
    "        if random.random() < pmut:  # Aplicamos mutación con probabilidad pmut\n",
    "            mutated_gene = gene + np.random.normal(0, sigma)  # Mutación gaussiana\n",
    "        else:\n",
    "            mutated_gene = gene  # No hay mutación, el gen permanece igual\n",
    "        \n",
    "        mutated_ind.append(mutated_gene)\n",
    "\n",
    "    return mutated_ind\n"
   ]
  },
  {
   "cell_type": "code",
   "execution_count": 22,
   "id": "8e363621",
   "metadata": {},
   "outputs": [],
   "source": [
    "import numpy as np\n",
    "import random\n",
    "\n",
    "def evolve(population, model, num_eval_games=3, pmut=0.2, pcross=0.8, ngen=1000, T=8, trace=100):\n",
    "    \"\"\"\n",
    "    Ejecuta un Algoritmo Genético para optimizar redes MLP.\n",
    "\n",
    "    Parámetros:\n",
    "    - population (list): Lista de individuos (listas de pesos para el MLP).\n",
    "    - model (MLP): Modelo base para evaluar individuos.\n",
    "    - num_eval_games (int): Número de partidas para evaluar fitness.\n",
    "    - pmut (float): Probabilidad de mutación.\n",
    "    - pcross (float): Probabilidad de crossover.\n",
    "    - ngen (int): Número de generaciones.\n",
    "    - T (int): Tamaño del torneo en la selección.\n",
    "    - trace (int): Frecuencia de impresión de estadísticas.\n",
    "    - elitism (bool): Si True, el mejor individuo se mantiene en la siguiente generación.\n",
    "\n",
    "    Retorna:\n",
    "    - final_population (list): Población evolucionada.\n",
    "    - best_fitness (list): Historial del mejor fitness en cada generación.\n",
    "    - mean_fitness (list): Historial del fitness promedio en cada generación.\n",
    "    \"\"\"\n",
    "\n",
    "    best_fitness = []\n",
    "    mean_fitness = []\n",
    "\n",
    "    for gen in range(ngen):\n",
    "        # Evaluar fitness en paralelo\n",
    "        fitness_scores = parallel_evaluation(population, model, num_eval_games, evaluate_fitness)\n",
    "\n",
    "        # Ordenar la población por fitness\n",
    "        sorted_population, sorted_scores = sort_pop(population, fitness_scores)\n",
    "\n",
    "        # Guardar estadísticas\n",
    "        best_fitness.append(sorted_scores[0])  # Mejor fitness de la generación\n",
    "        mean_fitness.append(np.mean(sorted_scores))  # Fitness promedio\n",
    "\n",
    "        # Convertimos la población en una lista de tuplas (individuo, fitness)\n",
    "        population_with_fitness = list(zip(sorted_population, sorted_scores))\n",
    "\n",
    "        # Generar nueva población\n",
    "        new_population = []\n",
    "\n",
    "        while len(new_population) < len(population):\n",
    "            # Seleccionar padres con torneo\n",
    "            parent1 = select(population_with_fitness, T)\n",
    "            parent2 = select(population_with_fitness, T)\n",
    "\n",
    "            # Aplicar crossover BLX-α\n",
    "            child1, child2 = blx_crossover(parent1, parent2, pcross)\n",
    "\n",
    "            # Aplicar mutación gaussiana adaptativa\n",
    "            mutated1 = mutate(child1, pmut)\n",
    "            mutated2 = mutate(child2, pmut)\n",
    "\n",
    "            # Agregar hijos a la nueva población\n",
    "            new_population.append(mutated1)\n",
    "            if len(new_population) < len(population):  # Evitar exceder el tamaño\n",
    "                new_population.append(mutated2)\n",
    "\n",
    "        # Reemplazar la población con la nueva\n",
    "        population = new_population\n",
    "\n",
    "        # Imprimir progreso cada \"trace\" generaciones\n",
    "        if gen % trace == 0:\n",
    "            print(f\"Generation {gen}: Best Fitness = {sorted_scores[0]:.2f}, Mean Fitness = {np.mean(sorted_scores):.2f}\")\n",
    "\n",
    "    print(f\"Final Best Fitness: {sorted_scores[0]:.2f}\")\n",
    "\n",
    "    return population, best_fitness, mean_fitness"
   ]
  },
  {
   "cell_type": "markdown",
   "id": "3f59be0c",
   "metadata": {},
   "source": [
    "## Neuroevolución 🔬🦾"
   ]
  },
  {
   "cell_type": "code",
   "execution_count": null,
   "id": "8fe85ef5",
   "metadata": {},
   "outputs": [],
   "source": [
    "POP_SIZE = 100\n",
    "GENS = 1000\n",
    "EVAL_GAMES = 3  # Número de partidas por individuo para calcular fitness\n",
    "# Crear población inicial con equilibrio entre exploración y estabilidad\n",
    "population = [\n",
    "    np.array(model.to_chromosome()) + np.random.uniform(-0.5, 0.5, len(model.to_chromosome()))\n",
    "    for _ in range(POP_SIZE)\n",
    "]\n",
    "\n",
    "# Convertimos la población a listas (ya que usamos NumPy antes)\n",
    "population = [ind.tolist() for ind in population]\n"
   ]
  },
  {
   "cell_type": "code",
   "execution_count": null,
   "id": "d4a1db06",
   "metadata": {},
   "outputs": [
    {
     "name": "stdout",
     "output_type": "stream",
     "text": [
      "Generation 0: Best Fitness = -62.62, Mean Fitness = -446.66\n",
      "Generation 50: Best Fitness = -0.45, Mean Fitness = -147.08\n",
      "Generation 100: Best Fitness = 228.49, Mean Fitness = -133.40\n",
      "Generation 150: Best Fitness = 61.92, Mean Fitness = -139.94\n"
     ]
    },
    {
     "ename": "KeyboardInterrupt",
     "evalue": "",
     "output_type": "error",
     "traceback": [
      "\u001b[1;31m---------------------------------------------------------------------------\u001b[0m",
      "\u001b[1;31mKeyboardInterrupt\u001b[0m                         Traceback (most recent call last)",
      "Cell \u001b[1;32mIn[19], line 2\u001b[0m\n\u001b[0;32m      1\u001b[0m pmut \u001b[38;5;241m=\u001b[39m \u001b[38;5;241m1.0\u001b[39m \u001b[38;5;241m/\u001b[39m \u001b[38;5;28mlen\u001b[39m(population[\u001b[38;5;241m0\u001b[39m])\n\u001b[1;32m----> 2\u001b[0m population, best_fitness, worst_fitness, mean_fitness \u001b[38;5;241m=\u001b[39m evolve(\n\u001b[0;32m      3\u001b[0m     population, \n\u001b[0;32m      4\u001b[0m     model,  \u001b[38;5;66;03m# Ahora pasamos el modelo base correctamente\u001b[39;00m\n\u001b[0;32m      5\u001b[0m     num_eval_games\u001b[38;5;241m=\u001b[39mEVAL_GAMES, \n\u001b[0;32m      6\u001b[0m     ngen\u001b[38;5;241m=\u001b[39mGENS, \n\u001b[0;32m      7\u001b[0m     T\u001b[38;5;241m=\u001b[39m\u001b[38;5;241m8\u001b[39m, \n\u001b[0;32m      8\u001b[0m     trace\u001b[38;5;241m=\u001b[39m\u001b[38;5;241m50\u001b[39m, \n\u001b[0;32m      9\u001b[0m     pmut\u001b[38;5;241m=\u001b[39mpmut, \n\u001b[0;32m     10\u001b[0m     pcross\u001b[38;5;241m=\u001b[39m\u001b[38;5;241m0.7\u001b[39m\n\u001b[0;32m     11\u001b[0m )\n",
      "Cell \u001b[1;32mIn[16], line 30\u001b[0m, in \u001b[0;36mevolve\u001b[1;34m(population, model, num_eval_games, pmut, pcross, ngen, T, trace)\u001b[0m\n\u001b[0;32m     26\u001b[0m mean_fitness \u001b[38;5;241m=\u001b[39m []\n\u001b[0;32m     28\u001b[0m \u001b[38;5;28;01mfor\u001b[39;00m gen \u001b[38;5;129;01min\u001b[39;00m \u001b[38;5;28mrange\u001b[39m(ngen):\n\u001b[0;32m     29\u001b[0m     \u001b[38;5;66;03m# Evaluar fitness en paralelo\u001b[39;00m\n\u001b[1;32m---> 30\u001b[0m     fitness_scores \u001b[38;5;241m=\u001b[39m parallel_evaluation(population, model, num_eval_games, evaluate_fitness)\n\u001b[0;32m     32\u001b[0m     \u001b[38;5;66;03m# Ordenar la población por fitness\u001b[39;00m\n\u001b[0;32m     33\u001b[0m     sorted_population, sorted_scores \u001b[38;5;241m=\u001b[39m sort_pop(population, fitness_scores)\n",
      "Cell \u001b[1;32mIn[9], line 19\u001b[0m, in \u001b[0;36mparallel_evaluation\u001b[1;34m(population, model, num_eval_games, fitness_func)\u001b[0m\n\u001b[0;32m     16\u001b[0m     models \u001b[38;5;241m=\u001b[39m [copy\u001b[38;5;241m.\u001b[39mdeepcopy(model) \u001b[38;5;28;01mfor\u001b[39;00m _ \u001b[38;5;129;01min\u001b[39;00m \u001b[38;5;28mrange\u001b[39m(\u001b[38;5;28mlen\u001b[39m(population))]\n\u001b[0;32m     18\u001b[0m     \u001b[38;5;66;03m# Ejecutamos fitness_func en paralelo, pasando el modelo, el individuo y num_eval_games\u001b[39;00m\n\u001b[1;32m---> 19\u001b[0m     fitness_scores \u001b[38;5;241m=\u001b[39m \u001b[38;5;28mlist\u001b[39m(executor\u001b[38;5;241m.\u001b[39mmap(fitness_func, models, population, [num_eval_games] \u001b[38;5;241m*\u001b[39m \u001b[38;5;28mlen\u001b[39m(population)))\n\u001b[0;32m     21\u001b[0m \u001b[38;5;28;01mreturn\u001b[39;00m fitness_scores\n",
      "File \u001b[1;32mc:\\Users\\javiq\\anaconda3\\Lib\\site-packages\\loky\\process_executor.py:967\u001b[0m, in \u001b[0;36m_chain_from_iterable_of_lists\u001b[1;34m(iterable)\u001b[0m\n\u001b[0;32m    961\u001b[0m \u001b[38;5;28;01mdef\u001b[39;00m \u001b[38;5;21m_chain_from_iterable_of_lists\u001b[39m(iterable):\n\u001b[0;32m    962\u001b[0m \u001b[38;5;250m    \u001b[39m\u001b[38;5;124;03m\"\"\"\u001b[39;00m\n\u001b[0;32m    963\u001b[0m \u001b[38;5;124;03m    Specialized implementation of itertools.chain.from_iterable.\u001b[39;00m\n\u001b[0;32m    964\u001b[0m \u001b[38;5;124;03m    Each item in *iterable* should be a list.  This function is\u001b[39;00m\n\u001b[0;32m    965\u001b[0m \u001b[38;5;124;03m    careful not to keep references to yielded objects.\u001b[39;00m\n\u001b[0;32m    966\u001b[0m \u001b[38;5;124;03m    \"\"\"\u001b[39;00m\n\u001b[1;32m--> 967\u001b[0m     \u001b[38;5;28;01mfor\u001b[39;00m element \u001b[38;5;129;01min\u001b[39;00m iterable:\n\u001b[0;32m    968\u001b[0m         element\u001b[38;5;241m.\u001b[39mreverse()\n\u001b[0;32m    969\u001b[0m         \u001b[38;5;28;01mwhile\u001b[39;00m element:\n",
      "File \u001b[1;32mc:\\Users\\javiq\\anaconda3\\Lib\\concurrent\\futures\\_base.py:619\u001b[0m, in \u001b[0;36mExecutor.map.<locals>.result_iterator\u001b[1;34m()\u001b[0m\n\u001b[0;32m    616\u001b[0m \u001b[38;5;28;01mwhile\u001b[39;00m fs:\n\u001b[0;32m    617\u001b[0m     \u001b[38;5;66;03m# Careful not to keep a reference to the popped future\u001b[39;00m\n\u001b[0;32m    618\u001b[0m     \u001b[38;5;28;01mif\u001b[39;00m timeout \u001b[38;5;129;01mis\u001b[39;00m \u001b[38;5;28;01mNone\u001b[39;00m:\n\u001b[1;32m--> 619\u001b[0m         \u001b[38;5;28;01myield\u001b[39;00m _result_or_cancel(fs\u001b[38;5;241m.\u001b[39mpop())\n\u001b[0;32m    620\u001b[0m     \u001b[38;5;28;01melse\u001b[39;00m:\n\u001b[0;32m    621\u001b[0m         \u001b[38;5;28;01myield\u001b[39;00m _result_or_cancel(fs\u001b[38;5;241m.\u001b[39mpop(), end_time \u001b[38;5;241m-\u001b[39m time\u001b[38;5;241m.\u001b[39mmonotonic())\n",
      "File \u001b[1;32mc:\\Users\\javiq\\anaconda3\\Lib\\concurrent\\futures\\_base.py:317\u001b[0m, in \u001b[0;36m_result_or_cancel\u001b[1;34m(***failed resolving arguments***)\u001b[0m\n\u001b[0;32m    315\u001b[0m \u001b[38;5;28;01mtry\u001b[39;00m:\n\u001b[0;32m    316\u001b[0m     \u001b[38;5;28;01mtry\u001b[39;00m:\n\u001b[1;32m--> 317\u001b[0m         \u001b[38;5;28;01mreturn\u001b[39;00m fut\u001b[38;5;241m.\u001b[39mresult(timeout)\n\u001b[0;32m    318\u001b[0m     \u001b[38;5;28;01mfinally\u001b[39;00m:\n\u001b[0;32m    319\u001b[0m         fut\u001b[38;5;241m.\u001b[39mcancel()\n",
      "File \u001b[1;32mc:\\Users\\javiq\\anaconda3\\Lib\\concurrent\\futures\\_base.py:451\u001b[0m, in \u001b[0;36mFuture.result\u001b[1;34m(self, timeout)\u001b[0m\n\u001b[0;32m    448\u001b[0m \u001b[38;5;28;01melif\u001b[39;00m \u001b[38;5;28mself\u001b[39m\u001b[38;5;241m.\u001b[39m_state \u001b[38;5;241m==\u001b[39m FINISHED:\n\u001b[0;32m    449\u001b[0m     \u001b[38;5;28;01mreturn\u001b[39;00m \u001b[38;5;28mself\u001b[39m\u001b[38;5;241m.\u001b[39m__get_result()\n\u001b[1;32m--> 451\u001b[0m \u001b[38;5;28mself\u001b[39m\u001b[38;5;241m.\u001b[39m_condition\u001b[38;5;241m.\u001b[39mwait(timeout)\n\u001b[0;32m    453\u001b[0m \u001b[38;5;28;01mif\u001b[39;00m \u001b[38;5;28mself\u001b[39m\u001b[38;5;241m.\u001b[39m_state \u001b[38;5;129;01min\u001b[39;00m [CANCELLED, CANCELLED_AND_NOTIFIED]:\n\u001b[0;32m    454\u001b[0m     \u001b[38;5;28;01mraise\u001b[39;00m CancelledError()\n",
      "File \u001b[1;32mc:\\Users\\javiq\\anaconda3\\Lib\\threading.py:355\u001b[0m, in \u001b[0;36mCondition.wait\u001b[1;34m(self, timeout)\u001b[0m\n\u001b[0;32m    353\u001b[0m \u001b[38;5;28;01mtry\u001b[39;00m:    \u001b[38;5;66;03m# restore state no matter what (e.g., KeyboardInterrupt)\u001b[39;00m\n\u001b[0;32m    354\u001b[0m     \u001b[38;5;28;01mif\u001b[39;00m timeout \u001b[38;5;129;01mis\u001b[39;00m \u001b[38;5;28;01mNone\u001b[39;00m:\n\u001b[1;32m--> 355\u001b[0m         waiter\u001b[38;5;241m.\u001b[39macquire()\n\u001b[0;32m    356\u001b[0m         gotit \u001b[38;5;241m=\u001b[39m \u001b[38;5;28;01mTrue\u001b[39;00m\n\u001b[0;32m    357\u001b[0m     \u001b[38;5;28;01melse\u001b[39;00m:\n",
      "\u001b[1;31mKeyboardInterrupt\u001b[0m: "
     ]
    }
   ],
   "source": [
    "pmut = 1.0 / len(population[0])\n",
    "population, best_fitness, worst_fitness, mean_fitness = evolve(\n",
    "    population, \n",
    "    model,  # Ahora pasamos el modelo base correctamente\n",
    "    num_eval_games=EVAL_GAMES, \n",
    "    ngen=GENS, \n",
    "    T=8, \n",
    "    trace=50, \n",
    "    pmut=0.1, \n",
    "    pcross=0.7\n",
    ")"
   ]
  },
  {
   "cell_type": "markdown",
   "id": "b801a6f8",
   "metadata": {},
   "source": [
    "### Visualización de métricas de la evolución 📊📈"
   ]
  },
  {
   "cell_type": "code",
   "execution_count": null,
   "id": "5e7864d7",
   "metadata": {},
   "outputs": [],
   "source": [
    "plt.plot(best_fitness)\n",
    "plt.plot(worst_fitness)\n",
    "plt.plot(mean_fitness)\n",
    "plt.xlabel('Generations')\n",
    "plt.ylabel('Fitness')\n",
    "plt.legend(['Best', 'Worst', 'Mean'])\n",
    "plt.show()"
   ]
  },
  {
   "cell_type": "markdown",
   "id": "f7f62688",
   "metadata": {},
   "source": [
    "## Prueba del mejor individuo 🏆🚀"
   ]
  },
  {
   "cell_type": "code",
   "execution_count": null,
   "id": "a86218ad",
   "metadata": {},
   "outputs": [],
   "source": [
    "env_test = gym.make(\"LunarLander-v3\", render_mode=\"human\")\n",
    "\n",
    "model_test = MLP(LAYERS)\n",
    "model_test.from_chromosome(population[0])\n",
    "def run_test():\n",
    "    \"\"\"\n",
    "    Esta función genera un escenario de juego y ejecuta la política definida en la función policy.\n",
    "    Al acabar el juego (cuando se estrella o aterriza), devuelve la recompensa acumulada.\n",
    "    \"\"\"\n",
    "    observation, info = env_test.reset() # se abre un escenario de juego\n",
    "    racum = 0\n",
    "    while True:\n",
    "        action = policy(observation)\n",
    "        observation, reward, terminated, truncated, info = env_test.step(action)\n",
    "        racum += reward\n",
    "        if terminated or truncated:\n",
    "            return racum\n",
    "for e in range(10):\n",
    "    run_test()"
   ]
  },
  {
   "cell_type": "markdown",
   "id": "f7ff5933",
   "metadata": {},
   "source": [
    "#### ¿No has tenido bastante?\n",
    "\n",
    "Prueba a controlar el flappy bird https://github.com/markub3327/flappy-bird-gymnasium\n",
    "\n",
    "pip install flappy-bird-gymnasium\n",
    "\n",
    "import flappy_bird_gymnasium  \n",
    "env = gym.make(\"FlappyBird-v0\")\n",
    "\n",
    "Estado (12 variables):\n",
    "  * the last pipe's horizontal position\n",
    "  * the last top pipe's vertical position\n",
    "  * the last bottom pipe's vertical position\n",
    "  * the next pipe's horizontal position\n",
    "  * the next top pipe's vertical position\n",
    "  * he next bottom pipe's vertical position\n",
    "  * the next next pipe's horizontal position\n",
    "  * the next next top pipe's vertical position\n",
    "  * the next next bottom pipe's vertical position\n",
    "  * player's vertical position\n",
    "  * player's vertical velocity\n",
    "  * player's rotation\n",
    "\n",
    "  Acciones:\n",
    "  * 0 -> no hacer nada\n",
    "  * 1 -> volar"
   ]
  }
 ],
 "metadata": {
  "kernelspec": {
   "display_name": "base",
   "language": "python",
   "name": "python3"
  },
  "language_info": {
   "codemirror_mode": {
    "name": "ipython",
    "version": 3
   },
   "file_extension": ".py",
   "mimetype": "text/x-python",
   "name": "python",
   "nbconvert_exporter": "python",
   "pygments_lexer": "ipython3",
   "version": "3.12.3"
  }
 },
 "nbformat": 4,
 "nbformat_minor": 5
}
