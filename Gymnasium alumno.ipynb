{
 "cells": [
  {
   "cell_type": "markdown",
   "id": "d47c739a",
   "metadata": {},
   "source": [
    "# LunarLander-v3 feat. Reinforcemente Learning 🚀\n",
    "\n",
    "By\n",
    "- Miguel González\n",
    "- Javier Quesada"
   ]
  },
  {
   "cell_type": "markdown",
   "id": "932f230c",
   "metadata": {},
   "source": [
    "## Info"
   ]
  },
  {
   "attachments": {},
   "cell_type": "markdown",
   "id": "3ce62d5d",
   "metadata": {},
   "source": [
    "### Documentación\n",
    "\n",
    "Problemas interesantes para Aprendizaje por refuerzo\n",
    " * Gymnasium: https://gymnasium.farama.org/environments/box2d/"
   ]
  },
  {
   "attachments": {},
   "cell_type": "markdown",
   "id": "57c172cf-929c-4be0-b79e-d3da9d17c343",
   "metadata": {},
   "source": [
    "### Instalación\n",
    "\n",
    "%pip install gymnasium  \n",
    "%pip install gymnasium[box2d] \n",
    "\n",
    "### Acciones adicionales\n",
    "\n",
    "Pueden ser necesarias *antes* de instalar gymnasium[box2d].\n",
    "\n",
    "#### En macos\n",
    "\n",
    "pip uninstall swig  \n",
    "xcode-select -—install (instala las herramientas de desarrollador si no se tienen ya)  \n",
    "pip install swig  / sudo port install swig-python\n",
    "pip install 'gymnasium[box2d]' # en zsh hay que poner las comillas  \n",
    "\n",
    "#### en Windows\n",
    "\n",
    "Si da error, se debe a la falta de la versión correcta de Microsoft C++ Build Tools, que es una dependencia de Box2D. Para solucionar este problema, puede seguir los siguientes pasos:\n",
    " * Descargar Microsoft C++ Build Tools desde https://visualstudio.microsoft.com/visual-cpp-build-tools/.\n",
    " * Dentro del instalador, seleccione la opción \"Desarrollo para el escritorio con C++\"\n",
    " * Reinicie su sesión en Jupyter Notebook o en Visual Studio.\n",
    " * Ejecute nuevamente el comando !pip install gymnasium[box2d] en la línea de comandos de su notebook.\n",
    "\n",
    "#### En linux (colab)\n",
    "  * pip install swig"
   ]
  },
  {
   "cell_type": "markdown",
   "id": "9832d7ba",
   "metadata": {},
   "source": [
    "## Dependencias 📦"
   ]
  },
  {
   "cell_type": "code",
   "execution_count": null,
   "id": "50c3d9c6",
   "metadata": {},
   "outputs": [],
   "source": [
    "%pip install swig -q\n",
    "%pip install gymnasium[box2d] -q\n",
    "%pip install loky -q"
   ]
  },
  {
   "cell_type": "code",
   "execution_count": 1,
   "id": "356dfb44",
   "metadata": {},
   "outputs": [],
   "source": [
    "import gymnasium as gym\n",
    "import numpy as np\n",
    "import pygame\n",
    "import gymnasium.utils.play\n",
    "from MLP import MLP\n",
    "import copy\n",
    "from loky import get_reusable_executor\n",
    "import random\n",
    "import matplotlib.pyplot as plt"
   ]
  },
  {
   "cell_type": "markdown",
   "id": "ccdade56",
   "metadata": {},
   "source": [
    "## AutoPlay - humano 🕹️"
   ]
  },
  {
   "cell_type": "code",
   "execution_count": null,
   "id": "e2e7a384-a993-4330-b213-03d2f02ed3ab",
   "metadata": {},
   "outputs": [],
   "source": [
    "# prueba lunar lander por humano\n",
    "env_human = gym.make(\"LunarLander-v3\", render_mode=\"rgb_array\")\n",
    "\n",
    "lunar_lander_keys = {\n",
    "    (pygame.K_UP,): 2,\n",
    "    (pygame.K_LEFT,): 1,\n",
    "    (pygame.K_RIGHT,): 3,\n",
    "}\n",
    "gymnasium.utils.play.play(env_human, zoom=1, keys_to_action=lunar_lander_keys, noop=0)"
   ]
  },
  {
   "cell_type": "markdown",
   "id": "f911a9ca",
   "metadata": {},
   "source": [
    "## Desarrollo de funciones 🧩"
   ]
  },
  {
   "cell_type": "markdown",
   "id": "e6707b05",
   "metadata": {},
   "source": [
    "### Modelo 🧠"
   ]
  },
  {
   "cell_type": "code",
   "execution_count": 2,
   "id": "5f5cf2df",
   "metadata": {},
   "outputs": [],
   "source": [
    "# construir modelo\n",
    "LAYERS = [8, 6, 4]\n",
    "model =  MLP(LAYERS)"
   ]
  },
  {
   "cell_type": "markdown",
   "id": "c4265a60",
   "metadata": {},
   "source": [
    "### Política 🎯"
   ]
  },
  {
   "cell_type": "code",
   "execution_count": 3,
   "id": "b73fa6db",
   "metadata": {},
   "outputs": [],
   "source": [
    "def policy(observation, epsilon=0.1):\n",
    "    if np.random.rand() < epsilon:  # 10% de las veces toma una acción aleatoria\n",
    "        return np.random.randint(4)\n",
    "    return np.argmax(model.forward(observation))  # 90% de las veces usa el modelo individuo MLP"
   ]
  },
  {
   "cell_type": "markdown",
   "id": "fb39286a",
   "metadata": {},
   "source": [
    "### Entorno de exploración y función de ejecución 🌍"
   ]
  },
  {
   "cell_type": "code",
   "execution_count": 4,
   "id": "40a50806",
   "metadata": {},
   "outputs": [],
   "source": [
    "env = gym.make(\"LunarLander-v3\")\n",
    "\n",
    "def run ():\n",
    "    \"\"\"\n",
    "    Esta función genera un escenario de juego y ejecuta la política definida en la función policy.\n",
    "    Al acabar el juego (cuando se estrella o aterriza), devuelve la recompensa acumulada.\n",
    "    \"\"\"\n",
    "    observation, info = env.reset() # se abre un escenario de juego\n",
    "    racum = 0\n",
    "    while True:\n",
    "        action = policy(observation)\n",
    "        observation, reward, terminated, truncated, info = env.step(action)\n",
    "        racum += reward\n",
    "        if terminated or truncated:\n",
    "            return racum"
   ]
  },
  {
   "cell_type": "markdown",
   "id": "c429eef1",
   "metadata": {},
   "source": [
    "### Funciones bioinspiradas 🧬"
   ]
  },
  {
   "cell_type": "code",
   "execution_count": 26,
   "id": "8889809d",
   "metadata": {},
   "outputs": [],
   "source": [
    "def sbx_crossover(parent1, parent2, eta_c=15):\n",
    "    \"\"\"\n",
    "    Simulated Binary Crossover (SBX) para variables continuas en [0,1].   \n",
    "    eta_c: distribution, controla la 'intensidad' del cruce.\n",
    "    \"\"\"\n",
    "    \n",
    "    # if np.random.rand() >= pc:\n",
    "    #     return np.copy(parent1), np.copy(parent2)\n",
    "\n",
    "    n_var = len(parent1)\n",
    "    child1 = np.zeros(n_var)\n",
    "    child2 = np.zeros(n_var)\n",
    "\n",
    "    for i in range(n_var):\n",
    "        x1 = parent1[i]\n",
    "        x2 = parent2[i]\n",
    "\n",
    "        if x1 > x2:\n",
    "            x1, x2 = x2, x1\n",
    "\n",
    "        if abs(x1 - x2) < 1e-14:\n",
    "            # Si son prácticamente iguales, se copia\n",
    "            child1[i] = x1\n",
    "            child2[i] = x2\n",
    "        else:\n",
    "            # Beta determina el grado de cruce\n",
    "            rand = np.random.rand()\n",
    "            beta = 1.0 + (2.0 * (x1 - 0.0) / (x2 - x1))\n",
    "            alpha = 2.0 - beta ** (-(eta_c + 1.0))\n",
    "            if rand <= 1.0 / alpha:\n",
    "                betaq = (rand * alpha) ** (1.0 / (eta_c + 1.0))\n",
    "            else:\n",
    "                betaq = (1.0 / (2.0 - rand * alpha)) ** (1.0 / (eta_c + 1.0))\n",
    "\n",
    "            c1 = 0.5 * ((x1 + x2) - betaq * (x2 - x1))\n",
    "\n",
    "            beta = 1.0 + (2.0 * (1.0 - x2) / (x2 - x1))\n",
    "            alpha = 2.0 - beta ** (-(eta_c + 1.0))\n",
    "            if rand <= 1.0 / alpha:\n",
    "                betaq = (rand * alpha) ** (1.0 / (eta_c + 1.0))\n",
    "            else:\n",
    "                betaq = (1.0 / (2.0 - rand * alpha)) ** (1.0 / (eta_c + 1.0))\n",
    "\n",
    "            c2 = 0.5 * ((x1 + x2) + betaq * (x2 - x1))\n",
    "\n",
    "            c1 = min(max(c1, 0.0), 1.0)\n",
    "            c2 = min(max(c2, 0.0), 1.0)\n",
    "\n",
    "            # Aleatoriamente asignamos quién obtiene c1 y c2\n",
    "            if np.random.rand() < 0.5:\n",
    "                child1[i] = c2\n",
    "                child2[i] = c1\n",
    "            else:\n",
    "                child1[i] = c1\n",
    "                child2[i] = c2\n",
    "\n",
    "    return child1, child2"
   ]
  },
  {
   "cell_type": "code",
   "execution_count": 40,
   "id": "8e363621",
   "metadata": {},
   "outputs": [],
   "source": [
    "# Función fitness\n",
    "def evaluate_fitness(ind, num_eval_games):\n",
    "    \"\"\"Calcula el fitness promediando la recompensa de varias partidas.\"\"\"\n",
    "    total_reward = 0\n",
    "    model.from_chromosome(ind)\n",
    "    for _ in range(num_eval_games):\n",
    "        total_reward += run()  # Ejecuta el agente en el entorno\n",
    "    return total_reward/num_eval_games\n",
    "\n",
    "def parallel_evaluation(population, num_eval_games, fitness_func):\n",
    "    \"\"\"Evalúa en paralelo el fitness de la población usando loky.\"\"\"\n",
    "    with get_reusable_executor() as executor:\n",
    "        fitness_scores = list(executor.map(fitness_func, population, [num_eval_games]* len(population)))\n",
    "    return fitness_scores\n",
    "\n",
    "def sort_pop(population, fitness_scores):\n",
    "    \"\"\"Ordena la población según el fitness obtenido.\"\"\"\n",
    "    sorted_pop = sorted(zip(population, fitness_scores), key=lambda x: x[1], reverse=True)\n",
    "    return [indiv for indiv, _ in sorted_pop], [fit for _, fit in sorted_pop]\n",
    "\n",
    "# Función cruce\n",
    "def pmx_crossover(parent1, parent2):\n",
    "    \"\"\"Cruce de mapeo parcial (PMX) entre dos cromosomas representados como listas de floats.\"\"\"\n",
    "    size = len(parent1)\n",
    "    start, end = sorted(random.sample(range(size), 2))\n",
    "\n",
    "    child1, child2 = parent1.copy(), parent2.copy()\n",
    "\n",
    "    mapping1 = {parent1[i]: parent2[i] for i in range(start, end)}\n",
    "    mapping2 = {parent2[i]: parent1[i] for i in range(start, end)}\n",
    "\n",
    "    def fill_child(child, parent, mapping):\n",
    "        for i in range(size):\n",
    "            if child[i] == -1.0:\n",
    "                gene = parent[i]\n",
    "                while gene in mapping:\n",
    "                    gene = mapping[gene]\n",
    "                child[i] = gene\n",
    "        return child\n",
    "\n",
    "    child1[start:end], child2[start:end] = parent1[start:end], parent2[start:end]\n",
    "    child1, child2 = fill_child(child1, parent2, mapping1), fill_child(child2, parent1, mapping2)\n",
    "\n",
    "    return child1, child2\n",
    "\n",
    "def crossover(ind1, ind2, pcross):\n",
    "    if random.random() > pcross:\n",
    "        return ind1.copy(), ind2.copy()\n",
    "    return sbx_crossover(ind1, ind2)\n",
    "\n",
    "# Función selección\n",
    "def select(population, T: int) -> list[list]:\n",
    "    \"\"\"Return a copy of an individual by tournament selection. Population already ordered by fitness\"\"\"\n",
    "    # print(\"dentro de select\", len(population[0]))\n",
    "    choices=random.sample(copy.copy(population), k=T)\n",
    "    indices=[population.index(c) for c in choices]\n",
    "    return population[np.argmin(indices)]\n",
    "\n",
    "# Función mutación\n",
    "def mutate(ind, pmut):\n",
    "    \"\"\"\n",
    "    Aplica un operador de mutación seleccionado aleatoriamente a un individuo.\n",
    "    \"\"\"\n",
    "    def mutate_uniform(ind, pmut):\n",
    "        \"\"\"\n",
    "        Mutación uniforme: cada gen tiene probabilidad pmut de ser reemplazado\n",
    "        por un valor aleatorio en [0,1].\n",
    "        \"\"\"\n",
    "        for i in range(len(ind)):\n",
    "            if np.random.rand() < pmut:\n",
    "                ind[i] = np.random.rand()\n",
    "        return ind\n",
    "\n",
    "    def mutate_gaussian(ind, pmut, sigma=0.1):\n",
    "        \"\"\"\n",
    "        Mutación gaussiana: con probabilidad pmut, se le suma\n",
    "        una perturbación normal(0, sigma).\n",
    "        \"\"\"\n",
    "        for i in range(len(ind)):\n",
    "            if np.random.rand() < pmut:\n",
    "                # pequeña perturbación\n",
    "                perturb = np.random.normal(0, sigma)\n",
    "                ind[i] += perturb\n",
    "                # recortamos a [0,1]\n",
    "                ind[i] = np.clip(ind[i], 0, 1)\n",
    "        return ind\n",
    "    mutation_operator = np.random.choice([mutate_gaussian])\n",
    "    return mutation_operator(ind, pmut)\n",
    "\n",
    "# Función evolutiva\n",
    "def evolve(population, fit_func, num_eval_games=3, pmut=0.2, pcross=0.8, ngen=3000, T=6, trace=50, elitism=False):\n",
    "    best_fitness = []\n",
    "    worst_fitness = []\n",
    "    mean_fitness = []\n",
    "    for gen in range(ngen):\n",
    "\n",
    "        # Evaluar fitness en paralelo\n",
    "        fitness_scores = parallel_evaluation(population, num_eval_games, fit_func)\n",
    "\n",
    "        # Ordenar por fitness\n",
    "        sorted_population, sorted_scores = sort_pop(population, fitness_scores)\n",
    "        \n",
    "        # Guardar estadísticas\n",
    "        best_fitness.append(sorted_scores[0])\n",
    "        worst_fitness.append(sorted_scores[-1])\n",
    "        mean_fitness.append(np.mean(sorted_scores))\n",
    "        \n",
    "        # Generar nueva población con cruce y mutación\n",
    "        new_population = []\n",
    "        if elitism:\n",
    "            new_population.append(sorted_population[0].copy())\n",
    "        while len(new_population) < len(population):\n",
    "            parent1 = select(sorted_population[:len(population)//2], T)\n",
    "            parent2 = select(sorted_population[:len(population)//2],T)\n",
    "            childs = crossover(parent1, parent2, pcross=pcross)\n",
    "            final_child1, final_child2 = mutate(childs[0], pmut=pmut), mutate(childs[1], pmut=pmut)\n",
    "\n",
    "            # new_model1, new_model2 = MLP(LAYERS), MLP(LAYERS)\n",
    "            # new_model1.from_chromosome(final_child1)\n",
    "            # new_model2.from_chromosome(final_child2)\n",
    "\n",
    "            new_population.append(final_child1 if type(final_child1) == list else final_child1.tolist())\n",
    "            new_population.append(final_child2 if type(final_child2) == list else final_child2.tolist())\n",
    "\n",
    "\n",
    "        population = [*new_population]\n",
    "        if gen % trace == 0:\n",
    "            print(f\"Generation {gen} -> best fitness: {sorted_scores[0]}\")\n",
    "    print(f'Final best fitness: {sorted_scores[0]}')\n",
    "    \n",
    "    return population, best_fitness, worst_fitness, mean_fitness\n"
   ]
  },
  {
   "cell_type": "markdown",
   "id": "3f59be0c",
   "metadata": {},
   "source": [
    "## Neuroevolución 🔬🦾"
   ]
  },
  {
   "cell_type": "code",
   "execution_count": 41,
   "id": "8fe85ef5",
   "metadata": {},
   "outputs": [],
   "source": [
    "POP_SIZE = 100\n",
    "GENS = 3000\n",
    "EVAL_GAMES = 3  # Número de partidas por individuo para calcular fitness\n",
    "\n",
    "# Inicializar población aleatoria\n",
    "population = np.random.uniform(-5, 5, size=(POP_SIZE, len(model.to_chromosome()))).tolist()"
   ]
  },
  {
   "cell_type": "code",
   "execution_count": 42,
   "id": "d4a1db06",
   "metadata": {},
   "outputs": [
    {
     "name": "stdout",
     "output_type": "stream",
     "text": [
      "Generation 0 -> best fitness: -89.21309339314479\n",
      "Generation 50 -> best fitness: 7.486777941943316\n",
      "Generation 100 -> best fitness: 17.90587074396812\n",
      "Generation 150 -> best fitness: 30.72090756723662\n",
      "Generation 200 -> best fitness: 8.99893949836717\n",
      "Generation 250 -> best fitness: 11.23176746582567\n",
      "Generation 300 -> best fitness: 65.60914893054031\n",
      "Generation 350 -> best fitness: 79.67407163881704\n",
      "Generation 400 -> best fitness: 6.6978360674809165\n",
      "Generation 450 -> best fitness: -21.02847637262798\n",
      "Generation 500 -> best fitness: -21.073970675170703\n",
      "Generation 550 -> best fitness: 54.57413036443364\n",
      "Generation 600 -> best fitness: -2.8856738602542626\n",
      "Generation 650 -> best fitness: 126.89733305322096\n",
      "Generation 700 -> best fitness: 39.065454474358525\n",
      "Generation 750 -> best fitness: -2.2563433381499585\n",
      "Generation 800 -> best fitness: -7.488949416553358\n",
      "Generation 850 -> best fitness: 27.438253917139633\n",
      "Generation 900 -> best fitness: 8.421061845878876\n",
      "Generation 950 -> best fitness: -11.198935448362425\n",
      "Generation 1000 -> best fitness: -40.598833582937246\n",
      "Generation 1050 -> best fitness: 41.70842492027649\n",
      "Generation 1100 -> best fitness: -8.450812005088276\n",
      "Generation 1150 -> best fitness: 84.88365310618538\n",
      "Generation 1200 -> best fitness: -9.07663971450989\n",
      "Generation 1250 -> best fitness: 32.46324775741574\n",
      "Generation 1300 -> best fitness: 9.354953499109172\n",
      "Generation 1350 -> best fitness: 52.58663760824802\n",
      "Generation 1400 -> best fitness: 42.07580198479374\n",
      "Generation 1450 -> best fitness: 53.56444854452783\n",
      "Generation 1500 -> best fitness: -21.445783964169525\n",
      "Generation 1550 -> best fitness: 31.603577649110168\n"
     ]
    },
    {
     "ename": "KeyboardInterrupt",
     "evalue": "",
     "output_type": "error",
     "traceback": [
      "\u001b[1;31m---------------------------------------------------------------------------\u001b[0m",
      "\u001b[1;31mKeyboardInterrupt\u001b[0m                         Traceback (most recent call last)",
      "Cell \u001b[1;32mIn[42], line 1\u001b[0m\n\u001b[1;32m----> 1\u001b[0m population, best_fitness, worst_fitness, mean_fitness \u001b[38;5;241m=\u001b[39m \u001b[43mevolve\u001b[49m\u001b[43m(\u001b[49m\u001b[43mpopulation\u001b[49m\u001b[43m,\u001b[49m\n\u001b[0;32m      2\u001b[0m \u001b[43m                                                               \u001b[49m\u001b[43mevaluate_fitness\u001b[49m\u001b[43m,\u001b[49m\n\u001b[0;32m      3\u001b[0m \u001b[43m                                                               \u001b[49m\u001b[43mnum_eval_games\u001b[49m\u001b[38;5;241;43m=\u001b[39;49m\u001b[43mEVAL_GAMES\u001b[49m\u001b[43m,\u001b[49m\n\u001b[0;32m      4\u001b[0m \u001b[43m                                                               \u001b[49m\u001b[43mngen\u001b[49m\u001b[38;5;241;43m=\u001b[39;49m\u001b[43mGENS\u001b[49m\u001b[43m,\u001b[49m\n\u001b[0;32m      5\u001b[0m \u001b[43m                                                               \u001b[49m\u001b[43mT\u001b[49m\u001b[38;5;241;43m=\u001b[39;49m\u001b[38;5;241;43m6\u001b[39;49m\u001b[43m,\u001b[49m\n\u001b[0;32m      6\u001b[0m \u001b[43m                                                               \u001b[49m\u001b[43mtrace\u001b[49m\u001b[38;5;241;43m=\u001b[39;49m\u001b[38;5;241;43m50\u001b[39;49m\u001b[43m,\u001b[49m\n\u001b[0;32m      7\u001b[0m \u001b[43m                                                               \u001b[49m\u001b[43melitism\u001b[49m\u001b[38;5;241;43m=\u001b[39;49m\u001b[38;5;28;43;01mFalse\u001b[39;49;00m\n\u001b[0;32m      8\u001b[0m \u001b[43m                                                               \u001b[49m\u001b[43m)\u001b[49m\n",
      "Cell \u001b[1;32mIn[40], line 98\u001b[0m, in \u001b[0;36mevolve\u001b[1;34m(population, fit_func, num_eval_games, pmut, pcross, ngen, T, trace, elitism)\u001b[0m\n\u001b[0;32m     94\u001b[0m mean_fitness \u001b[38;5;241m=\u001b[39m []\n\u001b[0;32m     95\u001b[0m \u001b[38;5;28;01mfor\u001b[39;00m gen \u001b[38;5;129;01min\u001b[39;00m \u001b[38;5;28mrange\u001b[39m(ngen):\n\u001b[0;32m     96\u001b[0m \n\u001b[0;32m     97\u001b[0m     \u001b[38;5;66;03m# Evaluar fitness en paralelo\u001b[39;00m\n\u001b[1;32m---> 98\u001b[0m     fitness_scores \u001b[38;5;241m=\u001b[39m \u001b[43mparallel_evaluation\u001b[49m\u001b[43m(\u001b[49m\u001b[43mpopulation\u001b[49m\u001b[43m,\u001b[49m\u001b[43m \u001b[49m\u001b[43mnum_eval_games\u001b[49m\u001b[43m,\u001b[49m\u001b[43m \u001b[49m\u001b[43mfit_func\u001b[49m\u001b[43m)\u001b[49m\n\u001b[0;32m    100\u001b[0m     \u001b[38;5;66;03m# Ordenar por fitness\u001b[39;00m\n\u001b[0;32m    101\u001b[0m     sorted_population, sorted_scores \u001b[38;5;241m=\u001b[39m sort_pop(population, fitness_scores)\n",
      "Cell \u001b[1;32mIn[40], line 13\u001b[0m, in \u001b[0;36mparallel_evaluation\u001b[1;34m(population, num_eval_games, fitness_func)\u001b[0m\n\u001b[0;32m     11\u001b[0m \u001b[38;5;250m\u001b[39m\u001b[38;5;124;03m\"\"\"Evalúa en paralelo el fitness de la población usando loky.\"\"\"\u001b[39;00m\n\u001b[0;32m     12\u001b[0m \u001b[38;5;28;01mwith\u001b[39;00m get_reusable_executor() \u001b[38;5;28;01mas\u001b[39;00m executor:\n\u001b[1;32m---> 13\u001b[0m     fitness_scores \u001b[38;5;241m=\u001b[39m \u001b[38;5;28;43mlist\u001b[39;49m\u001b[43m(\u001b[49m\u001b[43mexecutor\u001b[49m\u001b[38;5;241;43m.\u001b[39;49m\u001b[43mmap\u001b[49m\u001b[43m(\u001b[49m\u001b[43mfitness_func\u001b[49m\u001b[43m,\u001b[49m\u001b[43m \u001b[49m\u001b[43mpopulation\u001b[49m\u001b[43m,\u001b[49m\u001b[43m \u001b[49m\u001b[43m[\u001b[49m\u001b[43mnum_eval_games\u001b[49m\u001b[43m]\u001b[49m\u001b[38;5;241;43m*\u001b[39;49m\u001b[43m \u001b[49m\u001b[38;5;28;43mlen\u001b[39;49m\u001b[43m(\u001b[49m\u001b[43mpopulation\u001b[49m\u001b[43m)\u001b[49m\u001b[43m)\u001b[49m\u001b[43m)\u001b[49m\n\u001b[0;32m     14\u001b[0m \u001b[38;5;28;01mreturn\u001b[39;00m fitness_scores\n",
      "File \u001b[1;32mc:\\Users\\mgonz\\AppData\\Local\\Programs\\Python\\Python312\\Lib\\site-packages\\loky\\process_executor.py:967\u001b[0m, in \u001b[0;36m_chain_from_iterable_of_lists\u001b[1;34m(iterable)\u001b[0m\n\u001b[0;32m    961\u001b[0m \u001b[38;5;28;01mdef\u001b[39;00m \u001b[38;5;21m_chain_from_iterable_of_lists\u001b[39m(iterable):\n\u001b[0;32m    962\u001b[0m \u001b[38;5;250m    \u001b[39m\u001b[38;5;124;03m\"\"\"\u001b[39;00m\n\u001b[0;32m    963\u001b[0m \u001b[38;5;124;03m    Specialized implementation of itertools.chain.from_iterable.\u001b[39;00m\n\u001b[0;32m    964\u001b[0m \u001b[38;5;124;03m    Each item in *iterable* should be a list.  This function is\u001b[39;00m\n\u001b[0;32m    965\u001b[0m \u001b[38;5;124;03m    careful not to keep references to yielded objects.\u001b[39;00m\n\u001b[0;32m    966\u001b[0m \u001b[38;5;124;03m    \"\"\"\u001b[39;00m\n\u001b[1;32m--> 967\u001b[0m \u001b[43m    \u001b[49m\u001b[38;5;28;43;01mfor\u001b[39;49;00m\u001b[43m \u001b[49m\u001b[43melement\u001b[49m\u001b[43m \u001b[49m\u001b[38;5;129;43;01min\u001b[39;49;00m\u001b[43m \u001b[49m\u001b[43miterable\u001b[49m\u001b[43m:\u001b[49m\n\u001b[0;32m    968\u001b[0m \u001b[43m        \u001b[49m\u001b[43melement\u001b[49m\u001b[38;5;241;43m.\u001b[39;49m\u001b[43mreverse\u001b[49m\u001b[43m(\u001b[49m\u001b[43m)\u001b[49m\n\u001b[0;32m    969\u001b[0m \u001b[43m        \u001b[49m\u001b[38;5;28;43;01mwhile\u001b[39;49;00m\u001b[43m \u001b[49m\u001b[43melement\u001b[49m\u001b[43m:\u001b[49m\n",
      "File \u001b[1;32mc:\\Users\\mgonz\\AppData\\Local\\Programs\\Python\\Python312\\Lib\\concurrent\\futures\\_base.py:619\u001b[0m, in \u001b[0;36mExecutor.map.<locals>.result_iterator\u001b[1;34m()\u001b[0m\n\u001b[0;32m    616\u001b[0m \u001b[38;5;28;01mwhile\u001b[39;00m fs:\n\u001b[0;32m    617\u001b[0m     \u001b[38;5;66;03m# Careful not to keep a reference to the popped future\u001b[39;00m\n\u001b[0;32m    618\u001b[0m     \u001b[38;5;28;01mif\u001b[39;00m timeout \u001b[38;5;129;01mis\u001b[39;00m \u001b[38;5;28;01mNone\u001b[39;00m:\n\u001b[1;32m--> 619\u001b[0m         \u001b[38;5;28;01myield\u001b[39;00m \u001b[43m_result_or_cancel\u001b[49m\u001b[43m(\u001b[49m\u001b[43mfs\u001b[49m\u001b[38;5;241;43m.\u001b[39;49m\u001b[43mpop\u001b[49m\u001b[43m(\u001b[49m\u001b[43m)\u001b[49m\u001b[43m)\u001b[49m\n\u001b[0;32m    620\u001b[0m     \u001b[38;5;28;01melse\u001b[39;00m:\n\u001b[0;32m    621\u001b[0m         \u001b[38;5;28;01myield\u001b[39;00m _result_or_cancel(fs\u001b[38;5;241m.\u001b[39mpop(), end_time \u001b[38;5;241m-\u001b[39m time\u001b[38;5;241m.\u001b[39mmonotonic())\n",
      "File \u001b[1;32mc:\\Users\\mgonz\\AppData\\Local\\Programs\\Python\\Python312\\Lib\\concurrent\\futures\\_base.py:317\u001b[0m, in \u001b[0;36m_result_or_cancel\u001b[1;34m(***failed resolving arguments***)\u001b[0m\n\u001b[0;32m    315\u001b[0m \u001b[38;5;28;01mtry\u001b[39;00m:\n\u001b[0;32m    316\u001b[0m     \u001b[38;5;28;01mtry\u001b[39;00m:\n\u001b[1;32m--> 317\u001b[0m         \u001b[38;5;28;01mreturn\u001b[39;00m \u001b[43mfut\u001b[49m\u001b[38;5;241;43m.\u001b[39;49m\u001b[43mresult\u001b[49m\u001b[43m(\u001b[49m\u001b[43mtimeout\u001b[49m\u001b[43m)\u001b[49m\n\u001b[0;32m    318\u001b[0m     \u001b[38;5;28;01mfinally\u001b[39;00m:\n\u001b[0;32m    319\u001b[0m         fut\u001b[38;5;241m.\u001b[39mcancel()\n",
      "File \u001b[1;32mc:\\Users\\mgonz\\AppData\\Local\\Programs\\Python\\Python312\\Lib\\concurrent\\futures\\_base.py:451\u001b[0m, in \u001b[0;36mFuture.result\u001b[1;34m(self, timeout)\u001b[0m\n\u001b[0;32m    448\u001b[0m \u001b[38;5;28;01melif\u001b[39;00m \u001b[38;5;28mself\u001b[39m\u001b[38;5;241m.\u001b[39m_state \u001b[38;5;241m==\u001b[39m FINISHED:\n\u001b[0;32m    449\u001b[0m     \u001b[38;5;28;01mreturn\u001b[39;00m \u001b[38;5;28mself\u001b[39m\u001b[38;5;241m.\u001b[39m__get_result()\n\u001b[1;32m--> 451\u001b[0m \u001b[38;5;28;43mself\u001b[39;49m\u001b[38;5;241;43m.\u001b[39;49m\u001b[43m_condition\u001b[49m\u001b[38;5;241;43m.\u001b[39;49m\u001b[43mwait\u001b[49m\u001b[43m(\u001b[49m\u001b[43mtimeout\u001b[49m\u001b[43m)\u001b[49m\n\u001b[0;32m    453\u001b[0m \u001b[38;5;28;01mif\u001b[39;00m \u001b[38;5;28mself\u001b[39m\u001b[38;5;241m.\u001b[39m_state \u001b[38;5;129;01min\u001b[39;00m [CANCELLED, CANCELLED_AND_NOTIFIED]:\n\u001b[0;32m    454\u001b[0m     \u001b[38;5;28;01mraise\u001b[39;00m CancelledError()\n",
      "File \u001b[1;32mc:\\Users\\mgonz\\AppData\\Local\\Programs\\Python\\Python312\\Lib\\threading.py:355\u001b[0m, in \u001b[0;36mCondition.wait\u001b[1;34m(self, timeout)\u001b[0m\n\u001b[0;32m    353\u001b[0m \u001b[38;5;28;01mtry\u001b[39;00m:    \u001b[38;5;66;03m# restore state no matter what (e.g., KeyboardInterrupt)\u001b[39;00m\n\u001b[0;32m    354\u001b[0m     \u001b[38;5;28;01mif\u001b[39;00m timeout \u001b[38;5;129;01mis\u001b[39;00m \u001b[38;5;28;01mNone\u001b[39;00m:\n\u001b[1;32m--> 355\u001b[0m         \u001b[43mwaiter\u001b[49m\u001b[38;5;241;43m.\u001b[39;49m\u001b[43macquire\u001b[49m\u001b[43m(\u001b[49m\u001b[43m)\u001b[49m\n\u001b[0;32m    356\u001b[0m         gotit \u001b[38;5;241m=\u001b[39m \u001b[38;5;28;01mTrue\u001b[39;00m\n\u001b[0;32m    357\u001b[0m     \u001b[38;5;28;01melse\u001b[39;00m:\n",
      "\u001b[1;31mKeyboardInterrupt\u001b[0m: "
     ]
    }
   ],
   "source": [
    "population, best_fitness, worst_fitness, mean_fitness = evolve(population,\n",
    "                                                               evaluate_fitness,\n",
    "                                                               num_eval_games=EVAL_GAMES,\n",
    "                                                               ngen=GENS,\n",
    "                                                               T=6,\n",
    "                                                               trace=50,\n",
    "                                                               elitism=False\n",
    "                                                               )"
   ]
  },
  {
   "cell_type": "markdown",
   "id": "b801a6f8",
   "metadata": {},
   "source": [
    "### Visualización de métricas de la evolución 📊📈"
   ]
  },
  {
   "cell_type": "code",
   "execution_count": null,
   "id": "5e7864d7",
   "metadata": {},
   "outputs": [],
   "source": [
    "plt.plot(best_fitness)\n",
    "plt.plot(worst_fitness)\n",
    "plt.plot(mean_fitness)\n",
    "plt.xlabel('Generations')\n",
    "plt.ylabel('Fitness')\n",
    "plt.legend(['Best', 'Worst', 'Mean'])\n",
    "plt.show()"
   ]
  },
  {
   "cell_type": "markdown",
   "id": "f7f62688",
   "metadata": {},
   "source": [
    "## Prueba del mejor individuo 🏆🚀"
   ]
  },
  {
   "cell_type": "code",
   "execution_count": null,
   "id": "a86218ad",
   "metadata": {},
   "outputs": [],
   "source": [
    "env_test = gym.make(\"LunarLander-v3\", render_mode=\"human\")\n",
    "\n",
    "model_test = MLP(LAYERS)\n",
    "model_test.from_chromosome(population[0])\n",
    "def run_test():\n",
    "    \"\"\"\n",
    "    Esta función genera un escenario de juego y ejecuta la política definida en la función policy.\n",
    "    Al acabar el juego (cuando se estrella o aterriza), devuelve la recompensa acumulada.\n",
    "    \"\"\"\n",
    "    observation, info = env_test.reset() # se abre un escenario de juego\n",
    "    racum = 0\n",
    "    while True:\n",
    "        action = policy(observation)\n",
    "        observation, reward, terminated, truncated, info = env_test.step(action)\n",
    "        racum += reward\n",
    "        if terminated or truncated:\n",
    "            return racum\n",
    "for e in range(10):\n",
    "    run_test()"
   ]
  },
  {
   "cell_type": "markdown",
   "id": "f7ff5933",
   "metadata": {},
   "source": [
    "#### ¿No has tenido bastante?\n",
    "\n",
    "Prueba a controlar el flappy bird https://github.com/markub3327/flappy-bird-gymnasium\n",
    "\n",
    "pip install flappy-bird-gymnasium\n",
    "\n",
    "import flappy_bird_gymnasium  \n",
    "env = gym.make(\"FlappyBird-v0\")\n",
    "\n",
    "Estado (12 variables):\n",
    "  * the last pipe's horizontal position\n",
    "  * the last top pipe's vertical position\n",
    "  * the last bottom pipe's vertical position\n",
    "  * the next pipe's horizontal position\n",
    "  * the next top pipe's vertical position\n",
    "  * he next bottom pipe's vertical position\n",
    "  * the next next pipe's horizontal position\n",
    "  * the next next top pipe's vertical position\n",
    "  * the next next bottom pipe's vertical position\n",
    "  * player's vertical position\n",
    "  * player's vertical velocity\n",
    "  * player's rotation\n",
    "\n",
    "  Acciones:\n",
    "  * 0 -> no hacer nada\n",
    "  * 1 -> volar"
   ]
  }
 ],
 "metadata": {
  "kernelspec": {
   "display_name": "Python 3",
   "language": "python",
   "name": "python3"
  },
  "language_info": {
   "codemirror_mode": {
    "name": "ipython",
    "version": 3
   },
   "file_extension": ".py",
   "mimetype": "text/x-python",
   "name": "python",
   "nbconvert_exporter": "python",
   "pygments_lexer": "ipython3",
   "version": "3.12.1"
  }
 },
 "nbformat": 4,
 "nbformat_minor": 5
}
