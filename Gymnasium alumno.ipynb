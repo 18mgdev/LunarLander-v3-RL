{
 "cells": [
  {
   "cell_type": "markdown",
   "id": "d47c739a",
   "metadata": {},
   "source": [
    "# LunarLander-v3 feat. Reinforcemente Learning 🚀\n",
    "\n",
    "By\n",
    "- Miguel González\n",
    "- Javier Quesada"
   ]
  },
  {
   "cell_type": "markdown",
   "id": "932f230c",
   "metadata": {},
   "source": [
    "## Info"
   ]
  },
  {
   "attachments": {},
   "cell_type": "markdown",
   "id": "3ce62d5d",
   "metadata": {},
   "source": [
    "### Documentación\n",
    "\n",
    "Problemas interesantes para Aprendizaje por refuerzo\n",
    " * Gymnasium: https://gymnasium.farama.org/environments/box2d/"
   ]
  },
  {
   "attachments": {},
   "cell_type": "markdown",
   "id": "57c172cf-929c-4be0-b79e-d3da9d17c343",
   "metadata": {},
   "source": [
    "### Instalación\n",
    "\n",
    "%pip install gymnasium  \n",
    "%pip install gymnasium[box2d] \n",
    "\n",
    "### Acciones adicionales\n",
    "\n",
    "Pueden ser necesarias *antes* de instalar gymnasium[box2d].\n",
    "\n",
    "#### En macos\n",
    "\n",
    "pip uninstall swig  \n",
    "xcode-select -—install (instala las herramientas de desarrollador si no se tienen ya)  \n",
    "pip install swig  / sudo port install swig-python\n",
    "pip install 'gymnasium[box2d]' # en zsh hay que poner las comillas  \n",
    "\n",
    "#### en Windows\n",
    "\n",
    "Si da error, se debe a la falta de la versión correcta de Microsoft C++ Build Tools, que es una dependencia de Box2D. Para solucionar este problema, puede seguir los siguientes pasos:\n",
    " * Descargar Microsoft C++ Build Tools desde https://visualstudio.microsoft.com/visual-cpp-build-tools/.\n",
    " * Dentro del instalador, seleccione la opción \"Desarrollo para el escritorio con C++\"\n",
    " * Reinicie su sesión en Jupyter Notebook o en Visual Studio.\n",
    " * Ejecute nuevamente el comando !pip install gymnasium[box2d] en la línea de comandos de su notebook.\n",
    "\n",
    "#### En linux (colab)\n",
    "  * pip install swig"
   ]
  },
  {
   "cell_type": "markdown",
   "id": "9832d7ba",
   "metadata": {},
   "source": [
    "## Dependencias 📦"
   ]
  },
  {
   "cell_type": "code",
   "execution_count": null,
   "id": "50c3d9c6",
   "metadata": {},
   "outputs": [],
   "source": [
    "%pip install swig -q\n",
    "%pip install gymnasium[box2d] -q\n",
    "%pip install loky -q"
   ]
  },
  {
   "cell_type": "code",
   "execution_count": null,
   "id": "356dfb44",
   "metadata": {},
   "outputs": [],
   "source": [
    "import gymnasium as gym\n",
    "import numpy as np\n",
    "import pygame\n",
    "import gymnasium.utils.play\n",
    "from MLP import MLP\n",
    "import copy\n",
    "from loky import get_reusable_executor\n",
    "import random\n",
    "import matplotlib.pyplot as plt"
   ]
  },
  {
   "cell_type": "markdown",
   "id": "ccdade56",
   "metadata": {},
   "source": [
    "## AutoPlay - humano 🕹️"
   ]
  },
  {
   "cell_type": "code",
   "execution_count": null,
   "id": "e2e7a384-a993-4330-b213-03d2f02ed3ab",
   "metadata": {},
   "outputs": [],
   "source": [
    "# prueba lunar lander por humano\n",
    "env_human = gym.make(\"LunarLander-v3\", render_mode=\"rgb_array\")\n",
    "\n",
    "lunar_lander_keys = {\n",
    "    (pygame.K_UP,): 2,\n",
    "    (pygame.K_LEFT,): 1,\n",
    "    (pygame.K_RIGHT,): 3,\n",
    "}\n",
    "gymnasium.utils.play.play(env_human, zoom=1, keys_to_action=lunar_lander_keys, noop=0)"
   ]
  },
  {
   "cell_type": "markdown",
   "id": "f911a9ca",
   "metadata": {},
   "source": [
    "## Desarrollo de funciones 🧩"
   ]
  },
  {
   "cell_type": "markdown",
   "id": "e6707b05",
   "metadata": {},
   "source": [
    "### Modelo 🧠"
   ]
  },
  {
   "cell_type": "code",
   "execution_count": null,
   "id": "5f5cf2df",
   "metadata": {},
   "outputs": [],
   "source": [
    "# construir modelo\n",
    "LAYERS = [8, 6, 4]\n",
    "model =  MLP(LAYERS)"
   ]
  },
  {
   "cell_type": "markdown",
   "id": "c4265a60",
   "metadata": {},
   "source": [
    "### Política 🎯"
   ]
  },
  {
   "cell_type": "code",
   "execution_count": null,
   "id": "b73fa6db",
   "metadata": {},
   "outputs": [],
   "source": [
    "def policy(observation, epsilon=0.1):\n",
    "    if np.random.rand() < epsilon:  # 10% de las veces toma una acción aleatoria\n",
    "        return np.random.randint(4)\n",
    "    return np.argmax(model.forward(observation))  # 90% de las veces usa el modelo individuo MLP"
   ]
  },
  {
   "cell_type": "markdown",
   "id": "fb39286a",
   "metadata": {},
   "source": [
    "### Entorno de exploración y función de ejecución 🌍"
   ]
  },
  {
   "cell_type": "code",
   "execution_count": null,
   "id": "40a50806",
   "metadata": {},
   "outputs": [],
   "source": [
    "env = gym.make(\"LunarLander-v3\")\n",
    "\n",
    "def run ():\n",
    "    \"\"\"\n",
    "    Esta función genera un escenario de juego y ejecuta la política definida en la función policy.\n",
    "    Al acabar el juego (cuando se estrella o aterriza), devuelve la recompensa acumulada.\n",
    "    \"\"\"\n",
    "    observation, info = env.reset() # se abre un escenario de juego\n",
    "    racum = 0\n",
    "    while True:\n",
    "        action = policy(observation)\n",
    "        observation, reward, terminated, truncated, info = env.step(action)\n",
    "        racum += reward\n",
    "        if terminated or truncated:\n",
    "            return racum"
   ]
  },
  {
   "cell_type": "markdown",
   "id": "c429eef1",
   "metadata": {},
   "source": [
    "### Funciones bioinspiradas 🧬"
   ]
  },
  {
   "cell_type": "code",
   "execution_count": null,
   "id": "8e363621",
   "metadata": {},
   "outputs": [],
   "source": [
    "# Función fitness\n",
    "def evaluate_fitness(ind, num_eval_games):\n",
    "    \"\"\"Calcula el fitness promediando la recompensa de varias partidas.\"\"\"\n",
    "    total_reward = 0\n",
    "    model.from_chromosome(ind)\n",
    "    for _ in range(num_eval_games):\n",
    "        total_reward += run()  # Ejecuta el agente en el entorno\n",
    "    return total_reward/num_eval_games\n",
    "\n",
    "def parallel_evaluation(population, num_eval_games, fitness_func):\n",
    "    \"\"\"Evalúa en paralelo el fitness de la población usando loky.\"\"\"\n",
    "    with get_reusable_executor() as executor:\n",
    "        fitness_scores = list(executor.map(fitness_func, population, [num_eval_games]* len(population)))\n",
    "    return fitness_scores\n",
    "\n",
    "def sort_pop(population, fitness_scores):\n",
    "    \"\"\"Ordena la población según el fitness obtenido.\"\"\"\n",
    "    sorted_pop = sorted(zip(population, fitness_scores), key=lambda x: x[1], reverse=True)\n",
    "    return [indiv for indiv, _ in sorted_pop], [fit for _, fit in sorted_pop]\n",
    "\n",
    "# Función cruce\n",
    "def pmx_crossover(parent1, parent2):\n",
    "    \"\"\"Cruce de mapeo parcial (PMX) entre dos cromosomas representados como listas de floats.\"\"\"\n",
    "    size = len(parent1)\n",
    "    start, end = sorted(random.sample(range(size), 2))\n",
    "\n",
    "    child1, child2 = parent1.copy(), parent2.copy()\n",
    "\n",
    "    mapping1 = {parent1[i]: parent2[i] for i in range(start, end)}\n",
    "    mapping2 = {parent2[i]: parent1[i] for i in range(start, end)}\n",
    "\n",
    "    def fill_child(child, parent, mapping):\n",
    "        for i in range(size):\n",
    "            if child[i] == -1.0:\n",
    "                gene = parent[i]\n",
    "                while gene in mapping:\n",
    "                    gene = mapping[gene]\n",
    "                child[i] = gene\n",
    "        return child\n",
    "\n",
    "    child1[start:end], child2[start:end] = parent1[start:end], parent2[start:end]\n",
    "    child1, child2 = fill_child(child1, parent2, mapping1), fill_child(child2, parent1, mapping2)\n",
    "\n",
    "    return child1, child2\n",
    "\n",
    "def crossover(ind1, ind2, pcross):\n",
    "    if random.random() > pcross:\n",
    "        return ind1.copy(), ind2.copy()\n",
    "    return pmx_crossover(ind1, ind2)\n",
    "\n",
    "# Función selección\n",
    "def select(population, T: int) -> list[list]:\n",
    "    \"\"\"Return a copy of an individual by tournament selection. Population already ordered by fitness\"\"\"\n",
    "    # print(\"dentro de select\", len(population[0]))\n",
    "    choices=random.sample(copy.copy(population), k=T)\n",
    "    indices=[population.index(c) for c in choices]\n",
    "    return population[np.argmin(indices)]\n",
    "\n",
    "# Función mutación\n",
    "def mutate(ind, pmut):\n",
    "    \"\"\"\n",
    "    Aplica un operador de mutación seleccionado aleatoriamente a un individuo.\n",
    "    \"\"\"\n",
    "    def mutate_uniform(ind, pmut):\n",
    "        \"\"\"\n",
    "        Mutación uniforme: cada gen tiene probabilidad pmut de ser reemplazado\n",
    "        por un valor aleatorio en [0,1].\n",
    "        \"\"\"\n",
    "        for i in range(len(ind)):\n",
    "            if np.random.rand() < pmut:\n",
    "                ind[i] = np.random.rand()\n",
    "        return ind\n",
    "\n",
    "    def mutate_gaussian(ind, pmut, sigma=0.1):\n",
    "        \"\"\"\n",
    "        Mutación gaussiana: con probabilidad pmut, se le suma\n",
    "        una perturbación normal(0, sigma).\n",
    "        \"\"\"\n",
    "        for i in range(len(ind)):\n",
    "            if np.random.rand() < pmut:\n",
    "                # pequeña perturbación\n",
    "                perturb = np.random.normal(0, sigma)\n",
    "                ind[i] += perturb\n",
    "                # recortamos a [0,1]\n",
    "                ind[i] = np.clip(ind[i], 0, 1)\n",
    "        return ind\n",
    "    mutation_operator = np.random.choice([mutate_uniform, mutate_gaussian])\n",
    "    return mutation_operator(ind, pmut)\n",
    "\n",
    "# Función evolutiva\n",
    "def evolve(population, fit_func, num_eval_games=3, pmut=0.2, pcross=0.8, ngen=3000, T=6, trace=50, elitism=False):\n",
    "    best_fitness = []\n",
    "    worst_fitness = []\n",
    "    mean_fitness = []\n",
    "    for gen in range(ngen):\n",
    "\n",
    "        # Evaluar fitness en paralelo\n",
    "        fitness_scores = parallel_evaluation(population, num_eval_games, fit_func)\n",
    "\n",
    "        # Ordenar por fitness\n",
    "        sorted_population, sorted_scores = sort_pop(population, fitness_scores)\n",
    "        \n",
    "        # Guardar estadísticas\n",
    "        best_fitness.append(sorted_scores[0])\n",
    "        worst_fitness.append(sorted_scores[-1])\n",
    "        mean_fitness.append(np.mean(sorted_scores))\n",
    "        \n",
    "        # Generar nueva población con cruce y mutación\n",
    "        new_population = []\n",
    "        if elitism:\n",
    "            new_population.append(sorted_population[0].copy())\n",
    "        while len(new_population) < len(population):\n",
    "            parent1 = select(population, T)\n",
    "            parent2 = select(population,T)\n",
    "            childs = crossover(parent1, parent2, pcross=pcross)\n",
    "            final_child1, final_child2 = mutate(childs[0], pmut=pmut), mutate(childs[1], pmut=pmut)\n",
    "\n",
    "            # new_model1, new_model2 = MLP(LAYERS), MLP(LAYERS)\n",
    "            # new_model1.from_chromosome(final_child1)\n",
    "            # new_model2.from_chromosome(final_child2)\n",
    "\n",
    "            new_population.append(final_child1)\n",
    "            new_population.append(final_child2)\n",
    "\n",
    "        population = [*new_population]\n",
    "        if gen % trace == 0:\n",
    "            print(f\"Generation {gen} -> best fitness: {sorted_scores[0]}\")\n",
    "    print(f'Final best fitness: {sorted_scores[0]}')\n",
    "    \n",
    "    return population, best_fitness, worst_fitness, mean_fitness\n"
   ]
  },
  {
   "cell_type": "markdown",
   "id": "3f59be0c",
   "metadata": {},
   "source": [
    "## Neuroevolución 🔬🦾"
   ]
  },
  {
   "cell_type": "code",
   "execution_count": null,
   "id": "8fe85ef5",
   "metadata": {},
   "outputs": [],
   "source": [
    "POP_SIZE = 100\n",
    "GENS = 3000\n",
    "EVAL_GAMES = 3  # Número de partidas por individuo para calcular fitness\n",
    "\n",
    "# Inicializar población aleatoria\n",
    "population = np.random.uniform(-5, 5, size=(POP_SIZE, len(model.to_chromosome()))).tolist()"
   ]
  },
  {
   "cell_type": "code",
   "execution_count": null,
   "id": "d4a1db06",
   "metadata": {},
   "outputs": [],
   "source": [
    "population, best_fitness, worst_fitness, mean_fitness = evolve(population,\n",
    "                                                               evaluate_fitness,\n",
    "                                                               num_eval_games=EVAL_GAMES,\n",
    "                                                               ngen=GENS,\n",
    "                                                               T=6,\n",
    "                                                               trace=50,\n",
    "                                                               elitism=False\n",
    "                                                               )"
   ]
  },
  {
   "cell_type": "markdown",
   "id": "b801a6f8",
   "metadata": {},
   "source": [
    "### Visualización de métricas de la evolución 📊📈"
   ]
  },
  {
   "cell_type": "code",
   "execution_count": null,
   "id": "5e7864d7",
   "metadata": {},
   "outputs": [],
   "source": [
    "plt.plot(best_fitness)\n",
    "plt.plot(worst_fitness)\n",
    "plt.plot(mean_fitness)\n",
    "plt.xlabel('Generations')\n",
    "plt.ylabel('Fitness')\n",
    "plt.legend(['Best', 'Worst', 'Mean'])\n",
    "plt.show()"
   ]
  },
  {
   "cell_type": "markdown",
   "id": "f7f62688",
   "metadata": {},
   "source": [
    "## Prueba del mejor individuo 🏆🚀"
   ]
  },
  {
   "cell_type": "code",
   "execution_count": null,
   "id": "a86218ad",
   "metadata": {},
   "outputs": [],
   "source": [
    "env_test = gym.make(\"LunarLander-v3\", render_mode=\"human\")\n",
    "\n",
    "model_test = MLP(LAYERS)\n",
    "model_test.from_chromosome(population[0])\n",
    "def run_test():\n",
    "    \"\"\"\n",
    "    Esta función genera un escenario de juego y ejecuta la política definida en la función policy.\n",
    "    Al acabar el juego (cuando se estrella o aterriza), devuelve la recompensa acumulada.\n",
    "    \"\"\"\n",
    "    observation, info = env_test.reset() # se abre un escenario de juego\n",
    "    racum = 0\n",
    "    while True:\n",
    "        action = policy(observation)\n",
    "        observation, reward, terminated, truncated, info = env_test.step(action)\n",
    "        racum += reward\n",
    "        if terminated or truncated:\n",
    "            return racum\n",
    "for e in range(10):\n",
    "    run_test()"
   ]
  },
  {
   "cell_type": "markdown",
   "id": "f7ff5933",
   "metadata": {},
   "source": [
    "#### ¿No has tenido bastante?\n",
    "\n",
    "Prueba a controlar el flappy bird https://github.com/markub3327/flappy-bird-gymnasium\n",
    "\n",
    "pip install flappy-bird-gymnasium\n",
    "\n",
    "import flappy_bird_gymnasium  \n",
    "env = gym.make(\"FlappyBird-v0\")\n",
    "\n",
    "Estado (12 variables):\n",
    "  * the last pipe's horizontal position\n",
    "  * the last top pipe's vertical position\n",
    "  * the last bottom pipe's vertical position\n",
    "  * the next pipe's horizontal position\n",
    "  * the next top pipe's vertical position\n",
    "  * he next bottom pipe's vertical position\n",
    "  * the next next pipe's horizontal position\n",
    "  * the next next top pipe's vertical position\n",
    "  * the next next bottom pipe's vertical position\n",
    "  * player's vertical position\n",
    "  * player's vertical velocity\n",
    "  * player's rotation\n",
    "\n",
    "  Acciones:\n",
    "  * 0 -> no hacer nada\n",
    "  * 1 -> volar"
   ]
  }
 ],
 "metadata": {
  "kernelspec": {
   "display_name": "Python 3",
   "language": "python",
   "name": "python3"
  },
  "language_info": {
   "codemirror_mode": {
    "name": "ipython",
    "version": 3
   },
   "file_extension": ".py",
   "mimetype": "text/x-python",
   "name": "python",
   "nbconvert_exporter": "python",
   "pygments_lexer": "ipython3",
   "version": "3.12.1"
  }
 },
 "nbformat": 4,
 "nbformat_minor": 5
}
