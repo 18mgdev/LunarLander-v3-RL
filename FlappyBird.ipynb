{
 "cells": [
  {
   "cell_type": "markdown",
   "metadata": {},
   "source": [
    "#### ¿No has tenido bastante?\n",
    "\n",
    "Prueba a controlar el flappy bird https://github.com/markub3327/flappy-bird-gymnasium\n",
    "\n",
    "pip install flappy-bird-gymnasium\n",
    "\n",
    "import flappy_bird_gymnasium  \n",
    "env = gym.make(\"FlappyBird-v0\")\n",
    "\n",
    "Estado (12 variables):\n",
    "  * the last pipe's horizontal position\n",
    "  * the last top pipe's vertical position\n",
    "  * the last bottom pipe's vertical position\n",
    "  * the next pipe's horizontal position\n",
    "  * the next top pipe's vertical position\n",
    "  * he next bottom pipe's vertical position\n",
    "  * the next next pipe's horizontal position\n",
    "  * the next next top pipe's vertical position\n",
    "  * the next next bottom pipe's vertical position\n",
    "  * player's vertical position\n",
    "  * player's vertical velocity\n",
    "  * player's rotation\n",
    "\n",
    "  Acciones:\n",
    "  * 0 -> no hacer nada\n",
    "  * 1 -> volar"
   ]
  },
  {
   "cell_type": "code",
   "execution_count": 2,
   "metadata": {},
   "outputs": [
    {
     "name": "stdout",
     "output_type": "stream",
     "text": [
      "Note: you may need to restart the kernel to use updated packages.\n"
     ]
    },
    {
     "name": "stderr",
     "output_type": "stream",
     "text": [
      "\n",
      "[notice] A new release of pip is available: 25.0 -> 25.0.1\n",
      "[notice] To update, run: python.exe -m pip install --upgrade pip\n"
     ]
    }
   ],
   "source": [
    "%pip install flappy-bird-gymnasium -q"
   ]
  },
  {
   "cell_type": "code",
   "execution_count": 25,
   "metadata": {},
   "outputs": [],
   "source": [
    "import gymnasium as gym\n",
    "import flappy_bird_gymnasium  \n",
    "from gymnasium.wrappers import RecordVideo\n",
    "import numpy as np\n",
    "import pygame\n",
    "import gymnasium.utils.play\n",
    "from MLP import MLP\n",
    "import copy\n",
    "from loky import get_reusable_executor\n",
    "import random\n",
    "import matplotlib.pyplot as plt"
   ]
  },
  {
   "cell_type": "markdown",
   "metadata": {},
   "source": [
    "## AutoPlay - humano 🕹️"
   ]
  },
  {
   "cell_type": "code",
   "execution_count": 26,
   "metadata": {},
   "outputs": [],
   "source": [
    "# prueba lunar lander por humano\n",
    "env_human = gym.make(\"FlappyBird-v0\", render_mode=\"rgb_array\")\n",
    "\n",
    "flappy_bird_keys = {\n",
    "    (pygame.K_UP,): 1\n",
    "}\n",
    "gymnasium.utils.play.play(env_human, zoom=1, keys_to_action=flappy_bird_keys, noop=0)"
   ]
  },
  {
   "cell_type": "markdown",
   "metadata": {},
   "source": [
    "## Desarrollo de funciones 🧩"
   ]
  },
  {
   "cell_type": "markdown",
   "metadata": {},
   "source": [
    "### Modelo 🧠"
   ]
  },
  {
   "cell_type": "code",
   "execution_count": 33,
   "metadata": {},
   "outputs": [],
   "source": [
    "# construir modelo\n",
    "LAYERS = [12, 8, 6, 4, 2]\n",
    "model =  MLP(LAYERS)"
   ]
  },
  {
   "cell_type": "markdown",
   "metadata": {},
   "source": [
    "### Política 🎯"
   ]
  },
  {
   "cell_type": "code",
   "execution_count": 41,
   "metadata": {},
   "outputs": [],
   "source": [
    "def policy(observation, epsilon=0.1):\n",
    "    # observation = np.array(observation).reshape(1, -1)  # Convertir a (1,8)\n",
    "    if np.random.rand() < epsilon:  # 10% de las veces toma una acción aleatoria\n",
    "        return np.random.randint(2)\n",
    "    return np.argmax(model.forward(observation))  # 90% de las veces usa el modelo individuo MLP"
   ]
  },
  {
   "cell_type": "markdown",
   "metadata": {},
   "source": [
    "### Entorno de exploración y función de ejecución 🌍"
   ]
  },
  {
   "cell_type": "code",
   "execution_count": 42,
   "metadata": {},
   "outputs": [],
   "source": [
    "env = gym.make(\"FlappyBird-v0\", render_mode=\"human\")\n",
    "\n",
    "def run ():\n",
    "    \"\"\"\n",
    "    Esta función genera un escenario de juego y ejecuta la política definida en la función policy.\n",
    "    Al acabar el juego (cuando se estrella o aterriza), devuelve la recompensa acumulada.\n",
    "    \"\"\"\n",
    "    observation, info = env.reset() # se abre un escenario de juego\n",
    "    racum = 0\n",
    "    while True:\n",
    "        action = policy(observation)\n",
    "        observation, reward, terminated, truncated, info = env.step(action)\n",
    "        observation = np.array(observation).reshape(1, -1)\n",
    "        racum += reward\n",
    "        if terminated or truncated:\n",
    "            return racum"
   ]
  },
  {
   "cell_type": "markdown",
   "metadata": {},
   "source": [
    "### Funciones bioinspiradas 🧬"
   ]
  },
  {
   "cell_type": "code",
   "execution_count": 43,
   "metadata": {},
   "outputs": [],
   "source": [
    "# Función fitness\n",
    "def evaluate_fitness(ind, num_eval_games):\n",
    "    \"\"\"Calcula el fitness promediando la recompensa de varias partidas.\"\"\"\n",
    "    total_reward = 0\n",
    "    model.from_chromosome(ind)\n",
    "    for _ in range(num_eval_games):\n",
    "        total_reward += run()  # Ejecuta el agente en el entorno\n",
    "    return total_reward/num_eval_games\n",
    "\n",
    "def parallel_evaluation(population, num_eval_games, fitness_func):\n",
    "    \"\"\"Evalúa en paralelo el fitness de la población usando loky.\"\"\"\n",
    "    with get_reusable_executor() as executor:\n",
    "        fitness_scores = list(executor.map(fitness_func, population, [num_eval_games]* len(population)))\n",
    "    return fitness_scores\n",
    "\n",
    "def sort_pop(population, fitness_scores):\n",
    "    \"\"\"Ordena la población según el fitness obtenido.\"\"\"\n",
    "    sorted_pop = sorted(zip(population, fitness_scores), key=lambda x: x[1], reverse=True)\n",
    "    return [indiv for indiv, _ in sorted_pop], [fit for _, fit in sorted_pop]\n",
    "\n",
    "# Funciones de cruce\n",
    "def pmx_crossover(parent1, parent2):\n",
    "    \"\"\"Cruce de mapeo parcial (PMX) entre dos cromosomas representados como listas de floats.\"\"\"\n",
    "    size = len(parent1)\n",
    "    start, end = sorted(random.sample(range(size), 2))\n",
    "\n",
    "    child1, child2 = parent1.copy(), parent2.copy()\n",
    "\n",
    "    mapping1 = {parent1[i]: parent2[i] for i in range(start, end)}\n",
    "    mapping2 = {parent2[i]: parent1[i] for i in range(start, end)}\n",
    "\n",
    "    def fill_child(child, parent, mapping):\n",
    "        for i in range(size):\n",
    "            if child[i] == -1.0:\n",
    "                gene = parent[i]\n",
    "                while gene in mapping:\n",
    "                    gene = mapping[gene]\n",
    "                child[i] = gene\n",
    "        return child\n",
    "\n",
    "    child1[start:end], child2[start:end] = parent1[start:end], parent2[start:end]\n",
    "    child1, child2 = fill_child(child1, parent2, mapping1), fill_child(child2, parent1, mapping2)\n",
    "\n",
    "    return child1, child2\n",
    "\n",
    "def sbx_crossover(parent1, parent2, eta_c=15):\n",
    "    \"\"\"\n",
    "    Simulated Binary Crossover (SBX) para variables continuas en [0,1].   \n",
    "    eta_c: distribution, controla la 'intensidad' del cruce.\n",
    "    \"\"\"\n",
    "    \n",
    "    # if np.random.rand() >= pc:\n",
    "    #     return np.copy(parent1), np.copy(parent2)\n",
    "\n",
    "    n_var = len(parent1)\n",
    "    child1 = np.zeros(n_var)\n",
    "    child2 = np.zeros(n_var)\n",
    "\n",
    "    for i in range(n_var):\n",
    "        x1 = parent1[i]\n",
    "        x2 = parent2[i]\n",
    "\n",
    "        if x1 > x2:\n",
    "            x1, x2 = x2, x1\n",
    "\n",
    "        if abs(x1 - x2) < 1e-14:\n",
    "            # Si son prácticamente iguales, se copia\n",
    "            child1[i] = x1\n",
    "            child2[i] = x2\n",
    "        else:\n",
    "            # Beta determina el grado de cruce\n",
    "            rand = np.random.rand()\n",
    "            beta = 1.0 + (2.0 * (x1 - 0.0) / (x2 - x1))\n",
    "            alpha = 2.0 - beta ** (-(eta_c + 1.0))\n",
    "            if rand <= 1.0 / alpha:\n",
    "                betaq = (rand * alpha) ** (1.0 / (eta_c + 1.0))\n",
    "            else:\n",
    "                betaq = (1.0 / (2.0 - rand * alpha)) ** (1.0 / (eta_c + 1.0))\n",
    "\n",
    "            c1 = 0.5 * ((x1 + x2) - betaq * (x2 - x1))\n",
    "\n",
    "            beta = 1.0 + (2.0 * (1.0 - x2) / (x2 - x1))\n",
    "            alpha = 2.0 - beta ** (-(eta_c + 1.0))\n",
    "            if rand <= 1.0 / alpha:\n",
    "                betaq = (rand * alpha) ** (1.0 / (eta_c + 1.0))\n",
    "            else:\n",
    "                betaq = (1.0 / (2.0 - rand * alpha)) ** (1.0 / (eta_c + 1.0))\n",
    "\n",
    "            c2 = 0.5 * ((x1 + x2) + betaq * (x2 - x1))\n",
    "\n",
    "            c1 = min(max(c1, 0.0), 1.0)\n",
    "            c2 = min(max(c2, 0.0), 1.0)\n",
    "\n",
    "            # Aleatoriamente asignamos quién obtiene c1 y c2\n",
    "            if np.random.rand() < 0.5:\n",
    "                child1[i] = c2\n",
    "                child2[i] = c1\n",
    "            else:\n",
    "                child1[i] = c1\n",
    "                child2[i] = c2\n",
    "\n",
    "    return child1, child2\n",
    "\n",
    "def crossover(ind1, ind2, pcross):\n",
    "    if random.random() > pcross:\n",
    "        return ind1.copy(), ind2.copy()\n",
    "    return sbx_crossover(ind1, ind2)\n",
    "\n",
    "# Función selección\n",
    "def select(population, T: int) -> list[list]:\n",
    "    \"\"\"Return a copy of an individual by tournament selection. Population already ordered by fitness\"\"\"\n",
    "    choices=random.sample(copy.copy(population), k=T)\n",
    "    indices=[population.index(c) for c in choices]\n",
    "    return population[np.argmin(indices)]\n",
    "\n",
    "# Función mutación\n",
    "def mutate(ind, pmut):\n",
    "    \"\"\"\n",
    "    Aplica un operador de mutación seleccionado aleatoriamente a un individuo.\n",
    "    \"\"\"\n",
    "    def mutate_random(individual: list, pmut: float) -> list:\n",
    "        \"\"\" Mutación aleatoria \"\"\"\n",
    "        if random.random() < pmut:\n",
    "            index1, index2 = random.choices(range(len(individual)), k=2)\n",
    "            individual[index1] = random.uniform(-1,1)\n",
    "            individual[index2] = random.uniform(-1,1)\n",
    "        return individual\n",
    "\n",
    "    def mutate_gaussian(ind, pmut, sigma=0.1):\n",
    "        \"\"\"\n",
    "        Mutación gaussiana: con probabilidad pmut, se le suma\n",
    "        una perturbación normal(0, sigma).\n",
    "        \"\"\"\n",
    "        for i in range(len(ind)):\n",
    "            if np.random.rand() < pmut:\n",
    "                # pequeña perturbación\n",
    "                perturb = np.random.normal(0, sigma)\n",
    "                ind[i] += perturb\n",
    "                # recortamos a [0,1]\n",
    "                ind[i] = np.clip(ind[i], 0, 1)\n",
    "        return ind\n",
    "    mutation_operator = np.random.choice([mutate_gaussian, mutate_random])\n",
    "    return mutation_operator(ind, pmut)\n",
    "\n",
    "# Función evolutiva\n",
    "def evolve(population, fit_func, num_eval_games=3, pmut=0.2, pcross=0.8, ngen=3000, T=6, trace=50, elitism=False):\n",
    "    best_fitness = []\n",
    "    worst_fitness = []\n",
    "    mean_fitness = []\n",
    "\n",
    "    goat_fitness = -np.inf\n",
    "    goat_ind = []\n",
    "    for gen in range(ngen):\n",
    "\n",
    "        # Evaluar fitness en paralelo\n",
    "        # fitness_scores = parallel_evaluation(population, num_eval_games, fit_func)\n",
    "        fitness_scores = [fit_func(ind, num_eval_games) for ind in population]\n",
    "\n",
    "        # Ordenar por fitness\n",
    "        sorted_population, sorted_scores = sort_pop(population, fitness_scores)\n",
    "        \n",
    "        # Guardar estadísticas\n",
    "        best_fitness.append(sorted_scores[0])\n",
    "        worst_fitness.append(sorted_scores[-1])\n",
    "        mean_fitness.append(np.mean(sorted_scores))\n",
    "        \n",
    "        # Generar nueva población con cruce y mutación\n",
    "        new_population = []\n",
    "        if elitism:\n",
    "            new_population.append(sorted_population[0].copy())\n",
    "        while len(new_population) < len(population):\n",
    "            parent1 = select(sorted_population, T)\n",
    "            parent2 = select(sorted_population,T)\n",
    "            childs = crossover(parent1, parent2, pcross=pcross)\n",
    "            final_child1, final_child2 = mutate(childs[0], pmut=pmut), mutate(childs[1], pmut=pmut)\n",
    "\n",
    "            # new_model1, new_model2 = MLP(LAYERS), MLP(LAYERS)\n",
    "            # new_model1.from_chromosome(final_child1)\n",
    "            # new_model2.from_chromosome(final_child2)\n",
    "\n",
    "            new_population.append(final_child1 if type(final_child1) == list else final_child1.tolist())\n",
    "            new_population.append(final_child2 if type(final_child2) == list else final_child2.tolist())\n",
    "\n",
    "\n",
    "        population = [*new_population]\n",
    "\n",
    "        # Guardar mejor individuo\n",
    "        if sorted_scores[0] > goat_fitness:\n",
    "            goat_fitness = sorted_scores[0]\n",
    "            goat_ind = sorted_population[0].copy()\n",
    "\n",
    "        if gen % trace == 0:\n",
    "            print(f\"Generation {gen} -> best fitness: {sorted_scores[0]}\")\n",
    "        # print(f\"-> best fitness: {sorted_scores[0]}\")\n",
    "    print(f'Final best fitness: {sorted_scores[0]}')\n",
    "    \n",
    "    return population, goat_ind, best_fitness, worst_fitness, mean_fitness\n"
   ]
  },
  {
   "cell_type": "markdown",
   "metadata": {},
   "source": [
    "## Neuroevolución 🔬🦾"
   ]
  },
  {
   "cell_type": "code",
   "execution_count": 48,
   "metadata": {},
   "outputs": [],
   "source": [
    "POP_SIZE = 100\n",
    "GENS = 3000\n",
    "EVAL_GAMES = 3  # Número de partidas por individuo para calcular fitness\n",
    "\n",
    "# Inicializar población aleatoria\n",
    "population = np.random.uniform(-5, 5, size=(POP_SIZE, len(model.to_chromosome()))).tolist()"
   ]
  },
  {
   "cell_type": "code",
   "execution_count": 47,
   "metadata": {},
   "outputs": [
    {
     "ename": "ValueError",
     "evalue": "shapes (180,) and (12,8) not aligned: 180 (dim 0) != 12 (dim 0)",
     "output_type": "error",
     "traceback": [
      "\u001b[1;31m---------------------------------------------------------------------------\u001b[0m",
      "\u001b[1;31mValueError\u001b[0m                                Traceback (most recent call last)",
      "Cell \u001b[1;32mIn[47], line 1\u001b[0m\n\u001b[1;32m----> 1\u001b[0m population, goat_ind, best_fitness, worst_fitness, mean_fitness \u001b[38;5;241m=\u001b[39m \u001b[43mevolve\u001b[49m\u001b[43m(\u001b[49m\u001b[43mpopulation\u001b[49m\u001b[43m,\u001b[49m\n\u001b[0;32m      2\u001b[0m \u001b[43m                                                               \u001b[49m\u001b[43mevaluate_fitness\u001b[49m\u001b[43m,\u001b[49m\n\u001b[0;32m      3\u001b[0m \u001b[43m                                                               \u001b[49m\u001b[43mnum_eval_games\u001b[49m\u001b[38;5;241;43m=\u001b[39;49m\u001b[43mEVAL_GAMES\u001b[49m\u001b[43m,\u001b[49m\n\u001b[0;32m      4\u001b[0m \u001b[43m                                                               \u001b[49m\u001b[43mngen\u001b[49m\u001b[38;5;241;43m=\u001b[39;49m\u001b[43mGENS\u001b[49m\u001b[43m,\u001b[49m\n\u001b[0;32m      5\u001b[0m \u001b[43m                                                               \u001b[49m\u001b[43mT\u001b[49m\u001b[38;5;241;43m=\u001b[39;49m\u001b[38;5;241;43m6\u001b[39;49m\u001b[43m,\u001b[49m\n\u001b[0;32m      6\u001b[0m \u001b[43m                                                               \u001b[49m\u001b[43mtrace\u001b[49m\u001b[38;5;241;43m=\u001b[39;49m\u001b[38;5;241;43m50\u001b[39;49m\u001b[43m,\u001b[49m\n\u001b[0;32m      7\u001b[0m \u001b[43m                                                               \u001b[49m\u001b[43melitism\u001b[49m\u001b[38;5;241;43m=\u001b[39;49m\u001b[38;5;28;43;01mFalse\u001b[39;49;00m\n\u001b[0;32m      8\u001b[0m \u001b[43m                                                               \u001b[49m\u001b[43m)\u001b[49m\n",
      "Cell \u001b[1;32mIn[43], line 157\u001b[0m, in \u001b[0;36mevolve\u001b[1;34m(population, fit_func, num_eval_games, pmut, pcross, ngen, T, trace, elitism)\u001b[0m\n\u001b[0;32m    152\u001b[0m goat_ind \u001b[38;5;241m=\u001b[39m []\n\u001b[0;32m    153\u001b[0m \u001b[38;5;28;01mfor\u001b[39;00m gen \u001b[38;5;129;01min\u001b[39;00m \u001b[38;5;28mrange\u001b[39m(ngen):\n\u001b[0;32m    154\u001b[0m \n\u001b[0;32m    155\u001b[0m     \u001b[38;5;66;03m# Evaluar fitness en paralelo\u001b[39;00m\n\u001b[0;32m    156\u001b[0m     \u001b[38;5;66;03m# fitness_scores = parallel_evaluation(population, num_eval_games, fit_func)\u001b[39;00m\n\u001b[1;32m--> 157\u001b[0m     fitness_scores \u001b[38;5;241m=\u001b[39m [\u001b[43mfit_func\u001b[49m\u001b[43m(\u001b[49m\u001b[43mind\u001b[49m\u001b[43m,\u001b[49m\u001b[43m \u001b[49m\u001b[43mnum_eval_games\u001b[49m\u001b[43m)\u001b[49m \u001b[38;5;28;01mfor\u001b[39;00m ind \u001b[38;5;129;01min\u001b[39;00m population]\n\u001b[0;32m    159\u001b[0m     \u001b[38;5;66;03m# Ordenar por fitness\u001b[39;00m\n\u001b[0;32m    160\u001b[0m     sorted_population, sorted_scores \u001b[38;5;241m=\u001b[39m sort_pop(population, fitness_scores)\n",
      "Cell \u001b[1;32mIn[43], line 7\u001b[0m, in \u001b[0;36mevaluate_fitness\u001b[1;34m(ind, num_eval_games)\u001b[0m\n\u001b[0;32m      5\u001b[0m model\u001b[38;5;241m.\u001b[39mfrom_chromosome(ind)\n\u001b[0;32m      6\u001b[0m \u001b[38;5;28;01mfor\u001b[39;00m _ \u001b[38;5;129;01min\u001b[39;00m \u001b[38;5;28mrange\u001b[39m(num_eval_games):\n\u001b[1;32m----> 7\u001b[0m     total_reward \u001b[38;5;241m+\u001b[39m\u001b[38;5;241m=\u001b[39m \u001b[43mrun\u001b[49m\u001b[43m(\u001b[49m\u001b[43m)\u001b[49m  \u001b[38;5;66;03m# Ejecuta el agente en el entorno\u001b[39;00m\n\u001b[0;32m      8\u001b[0m \u001b[38;5;28;01mreturn\u001b[39;00m total_reward\u001b[38;5;241m/\u001b[39mnum_eval_games\n",
      "Cell \u001b[1;32mIn[42], line 11\u001b[0m, in \u001b[0;36mrun\u001b[1;34m()\u001b[0m\n\u001b[0;32m      9\u001b[0m racum \u001b[38;5;241m=\u001b[39m \u001b[38;5;241m0\u001b[39m\n\u001b[0;32m     10\u001b[0m \u001b[38;5;28;01mwhile\u001b[39;00m \u001b[38;5;28;01mTrue\u001b[39;00m:\n\u001b[1;32m---> 11\u001b[0m     action \u001b[38;5;241m=\u001b[39m \u001b[43mpolicy\u001b[49m\u001b[43m(\u001b[49m\u001b[43mobservation\u001b[49m\u001b[43m)\u001b[49m\n\u001b[0;32m     12\u001b[0m     observation, reward, terminated, truncated, info \u001b[38;5;241m=\u001b[39m env\u001b[38;5;241m.\u001b[39mstep(action)\n\u001b[0;32m     13\u001b[0m     observation \u001b[38;5;241m=\u001b[39m np\u001b[38;5;241m.\u001b[39marray(observation)\u001b[38;5;241m.\u001b[39mreshape(\u001b[38;5;241m1\u001b[39m, \u001b[38;5;241m-\u001b[39m\u001b[38;5;241m1\u001b[39m)\n",
      "Cell \u001b[1;32mIn[41], line 5\u001b[0m, in \u001b[0;36mpolicy\u001b[1;34m(observation, epsilon)\u001b[0m\n\u001b[0;32m      3\u001b[0m \u001b[38;5;28;01mif\u001b[39;00m np\u001b[38;5;241m.\u001b[39mrandom\u001b[38;5;241m.\u001b[39mrand() \u001b[38;5;241m<\u001b[39m epsilon:  \u001b[38;5;66;03m# 10% de las veces toma una acción aleatoria\u001b[39;00m\n\u001b[0;32m      4\u001b[0m     \u001b[38;5;28;01mreturn\u001b[39;00m np\u001b[38;5;241m.\u001b[39mrandom\u001b[38;5;241m.\u001b[39mrandint(\u001b[38;5;241m2\u001b[39m)\n\u001b[1;32m----> 5\u001b[0m \u001b[38;5;28;01mreturn\u001b[39;00m np\u001b[38;5;241m.\u001b[39margmax(\u001b[43mmodel\u001b[49m\u001b[38;5;241;43m.\u001b[39;49m\u001b[43mforward\u001b[49m\u001b[43m(\u001b[49m\u001b[43mobservation\u001b[49m\u001b[43m)\u001b[49m)\n",
      "File \u001b[1;32mc:\\Users\\mgonz\\Documents\\GitHub\\LunarLander-v3-RL\\MLP.py:38\u001b[0m, in \u001b[0;36mMLP.forward\u001b[1;34m(self, x)\u001b[0m\n\u001b[0;32m     36\u001b[0m \u001b[38;5;28;01mdef\u001b[39;00m \u001b[38;5;21mforward\u001b[39m (\u001b[38;5;28mself\u001b[39m, x): \u001b[38;5;66;03m# fast forward (optimized in time, but not use to train!)\u001b[39;00m\n\u001b[0;32m     37\u001b[0m     \u001b[38;5;28;01mfor\u001b[39;00m i \u001b[38;5;129;01min\u001b[39;00m \u001b[38;5;28mrange\u001b[39m(\u001b[38;5;28mlen\u001b[39m(\u001b[38;5;28mself\u001b[39m\u001b[38;5;241m.\u001b[39mb)):\n\u001b[1;32m---> 38\u001b[0m         net \u001b[38;5;241m=\u001b[39m \u001b[43mnp\u001b[49m\u001b[38;5;241;43m.\u001b[39;49m\u001b[43mdot\u001b[49m\u001b[43m(\u001b[49m\u001b[43mx\u001b[49m\u001b[43m,\u001b[49m\u001b[38;5;28;43mself\u001b[39;49m\u001b[38;5;241;43m.\u001b[39;49m\u001b[43mW\u001b[49m\u001b[43m[\u001b[49m\u001b[43mi\u001b[49m\u001b[43m]\u001b[49m\u001b[43m)\u001b[49m \u001b[38;5;241m+\u001b[39m \u001b[38;5;28mself\u001b[39m\u001b[38;5;241m.\u001b[39mb[i]\n\u001b[0;32m     39\u001b[0m         x \u001b[38;5;241m=\u001b[39m \u001b[38;5;28mself\u001b[39m\u001b[38;5;241m.\u001b[39msigm(net)\n\u001b[0;32m     40\u001b[0m     \u001b[38;5;28;01mreturn\u001b[39;00m x\n",
      "\u001b[1;31mValueError\u001b[0m: shapes (180,) and (12,8) not aligned: 180 (dim 0) != 12 (dim 0)"
     ]
    }
   ],
   "source": [
    "population, goat_ind, best_fitness, worst_fitness, mean_fitness = evolve(population,\n",
    "                                                               evaluate_fitness,\n",
    "                                                               num_eval_games=EVAL_GAMES,\n",
    "                                                               ngen=GENS,\n",
    "                                                               T=6,\n",
    "                                                               trace=50,\n",
    "                                                               elitism=False\n",
    "                                                               )"
   ]
  },
  {
   "cell_type": "code",
   "execution_count": null,
   "metadata": {},
   "outputs": [],
   "source": []
  }
 ],
 "metadata": {
  "kernelspec": {
   "display_name": "Python 3",
   "language": "python",
   "name": "python3"
  },
  "language_info": {
   "codemirror_mode": {
    "name": "ipython",
    "version": 3
   },
   "file_extension": ".py",
   "mimetype": "text/x-python",
   "name": "python",
   "nbconvert_exporter": "python",
   "pygments_lexer": "ipython3",
   "version": "3.12.1"
  }
 },
 "nbformat": 4,
 "nbformat_minor": 2
}
